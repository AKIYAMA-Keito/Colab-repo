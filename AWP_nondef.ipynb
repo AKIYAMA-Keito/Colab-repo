{
  "cells": [
    {
      "cell_type": "markdown",
      "metadata": {
        "id": "view-in-github",
        "colab_type": "text"
      },
      "source": [
        "<a href=\"https://colab.research.google.com/github/AKIYAMA-Keito/Colab-repo/blob/main/AWP_nondef.ipynb\" target=\"_parent\"><img src=\"https://colab.research.google.com/assets/colab-badge.svg\" alt=\"Open In Colab\"/></a>"
      ]
    },
    {
      "cell_type": "code",
      "execution_count": 1,
      "metadata": {
        "id": "d1Z8uIInOldG"
      },
      "outputs": [],
      "source": [
        "import tensorflow as tf\n",
        "from tensorflow.keras.layers import Dense, Flatten, Conv2D\n",
        "from tensorflow.keras import Model\n",
        "import numpy as np"
      ]
    },
    {
      "cell_type": "markdown",
      "metadata": {
        "id": "XKEv8KiMOldH"
      },
      "source": [
        "Step1 Tensorflowチュートリアル4から引用"
      ]
    },
    {
      "cell_type": "markdown",
      "source": [
        "version2\n"
      ],
      "metadata": {
        "id": "Yk9ofpRIRw2k"
      }
    },
    {
      "cell_type": "markdown",
      "metadata": {
        "id": "DVrpxk0rOldI"
      },
      "source": [
        "データセットを読み込んで正規化する．"
      ]
    },
    {
      "cell_type": "code",
      "execution_count": 2,
      "metadata": {
        "id": "QobaZNJyOldJ"
      },
      "outputs": [],
      "source": [
        "mnist = tf.keras.datasets.mnist\n",
        "(x_train, y_train), (x_test, y_test) = mnist.load_data()\n",
        "random_index_train = np.array(range(len(x_train)))\n",
        "np.random.shuffle(random_index_train)\n",
        "x_train = x_train[random_index_train][:1000]\n",
        "y_train = y_train[random_index_train][:1000]\n",
        "x_train = x_train / 255.0\n",
        "x_test = x_test/255.0\n",
        "x_train = x_train[..., tf.newaxis].astype(\"float32\")\n",
        "x_test = x_test[..., tf.newaxis].astype(\"float32\")"
      ]
    },
    {
      "cell_type": "markdown",
      "metadata": {
        "id": "PNcHvWE9OldJ"
      },
      "source": [
        "データセットをシャッフルしてバッチ化する．"
      ]
    },
    {
      "cell_type": "code",
      "execution_count": 3,
      "metadata": {
        "id": "Wg2lQwV_OldJ"
      },
      "outputs": [],
      "source": [
        "train_ds = tf.data.Dataset.from_tensor_slices(\n",
        "    (x_train, y_train)\n",
        ").batch(1000)\n",
        "test_ds = tf.data.Dataset.from_tensor_slices(\n",
        "    (x_test, y_test)\n",
        ").batch(1000)"
      ]
    },
    {
      "cell_type": "markdown",
      "metadata": {
        "id": "exQHK9sMOldK"
      },
      "source": [
        "CNNモデルを定義しインスタンスを取り出す．"
      ]
    },
    {
      "cell_type": "code",
      "execution_count": 4,
      "metadata": {
        "id": "1-UIMbDyOldK"
      },
      "outputs": [],
      "source": [
        "class CNNModel(Model):\n",
        "    def __init__(self):\n",
        "        super(CNNModel, self).__init__()\n",
        "        self.conv1 = Conv2D(32, 3, activation = \"relu\")\n",
        "        self.flatten = Flatten()\n",
        "        self.d1 = Dense(128, activation = \"relu\")\n",
        "        self.d2 = Dense(10)\n",
        "    \n",
        "    def call(self, x):\n",
        "        x = self.conv1(x)\n",
        "        x = self.flatten(x)\n",
        "        x = self.d1(x)\n",
        "        x = self.d2(x)\n",
        "        return x\n",
        "\n",
        "model = CNNModel()"
      ]
    },
    {
      "cell_type": "markdown",
      "metadata": {
        "id": "R46fxEjOOldK"
      },
      "source": [
        "損失関数とoptmizerを選択する．"
      ]
    },
    {
      "cell_type": "code",
      "execution_count": 5,
      "metadata": {
        "id": "9pzC_gytOldL"
      },
      "outputs": [],
      "source": [
        "loss_object = tf.keras.losses.SparseCategoricalCrossentropy(from_logits = True)\n",
        "optimizer = tf.keras.optimizers.Adam()"
      ]
    },
    {
      "cell_type": "markdown",
      "metadata": {
        "id": "ph_DSqV9OldL"
      },
      "source": [
        "損失関数とoptimizerの尺度評価のための関数を導入する．"
      ]
    },
    {
      "cell_type": "code",
      "execution_count": 6,
      "metadata": {
        "id": "MipedjyLOldL"
      },
      "outputs": [],
      "source": [
        "train_loss = tf.keras.metrics.Mean(name='train_loss')\n",
        "train_accuracy = tf.keras.metrics.SparseCategoricalAccuracy(name='train_accuracy')\n",
        "test_loss = tf.keras.metrics.Mean(name='test_loss')\n",
        "test_accuracy = tf.keras.metrics.SparseCategoricalAccuracy(name='test_accuracy')"
      ]
    },
    {
      "cell_type": "markdown",
      "metadata": {
        "id": "HD6sZQRdOldL"
      },
      "source": [
        "モデルを訓練するための関数train_stepを定義する．\n",
        "予測値と正解ラベルの間の損失関数の勾配を最適化する．"
      ]
    },
    {
      "cell_type": "code",
      "execution_count": 7,
      "metadata": {
        "id": "KCmbB-cnOldL"
      },
      "outputs": [],
      "source": [
        "@tf.function\n",
        "def train_step(images, labels):\n",
        "    with tf.GradientTape() as tape:\n",
        "        predictions = model(images, training = True)\n",
        "        loss = loss_object(labels, predictions)\n",
        "    gradients = tape.gradient(loss, model.trainable_variables)\n",
        "    optimizer.apply_gradients(zip(gradients, model.trainable_variables))\n",
        "    \n",
        "    train_loss(loss)\n",
        "    train_accuracy(labels, predictions)"
      ]
    },
    {
      "cell_type": "markdown",
      "metadata": {
        "id": "GdL3GJY2OldM"
      },
      "source": [
        "モデルをテストするための関数test_stepを定義する．"
      ]
    },
    {
      "cell_type": "code",
      "execution_count": 8,
      "metadata": {
        "id": "IsRpIQFEOldM"
      },
      "outputs": [],
      "source": [
        "@tf.function\n",
        "def test_step(images, labels):\n",
        "    predictions = model(images, training = False)\n",
        "    t_loss = loss_object(labels, predictions)\n",
        "    \n",
        "    test_loss(t_loss)\n",
        "    test_accuracy(labels, predictions)"
      ]
    },
    {
      "cell_type": "markdown",
      "metadata": {
        "id": "3D-PUsW-OldM"
      },
      "source": [
        "学習を実行してテストし，結果を出力する．"
      ]
    },
    {
      "cell_type": "code",
      "execution_count": 9,
      "metadata": {
        "colab": {
          "base_uri": "https://localhost:8080/"
        },
        "id": "tJEwX2bUOldM",
        "outputId": "d093a2df-2cae-46c7-8887-9f4a0517be13"
      },
      "outputs": [
        {
          "output_type": "stream",
          "name": "stdout",
          "text": [
            "Epoch 1, Loss: 2.3100950717926025, Accuracy: 9.700000762939453, Test Loss: 1.9859158992767334, Test Accuracy: 45.869998931884766\n",
            "Epoch 2, Loss: 1.9550176858901978, Accuracy: 52.79999923706055, Test Loss: 1.5647445917129517, Test Accuracy: 70.6500015258789\n",
            "Epoch 3, Loss: 1.5052270889282227, Accuracy: 75.0999984741211, Test Loss: 1.1999425888061523, Test Accuracy: 78.44999694824219\n"
          ]
        }
      ],
      "source": [
        "EPOCHS = 3\n",
        "\n",
        "for epoch in range(EPOCHS):\n",
        "    train_loss.reset_states()\n",
        "    train_accuracy.reset_states()\n",
        "    test_loss.reset_states()\n",
        "    test_accuracy.reset_states()\n",
        "    \n",
        "    for train_images, train_labels in train_ds:\n",
        "        train_step(train_images, train_labels)\n",
        "    \n",
        "    for test_images, test_labels in test_ds:\n",
        "        test_step(test_images, test_labels)\n",
        "    \n",
        "    print(\n",
        "        f'Epoch {epoch + 1}, '\n",
        "        f'Loss: {train_loss.result()}, '\n",
        "        f'Accuracy: {train_accuracy.result() * 100}, '\n",
        "        f'Test Loss: {test_loss.result()}, '\n",
        "        f'Test Accuracy: {test_accuracy.result() * 100}'\n",
        "    )"
      ]
    },
    {
      "cell_type": "markdown",
      "metadata": {
        "id": "xTaFZYwFOldM"
      },
      "source": [
        "AWPのアルゴリズムを記述する．\n",
        "まず，学習済みのmodelから重みを取り出してvを加えて再設定する．"
      ]
    },
    {
      "cell_type": "code",
      "source": [
        "weights = model.get_weights()\n",
        "ordinary_weights = weights\n",
        "v_array = []\n",
        "for w in weights:\n",
        "  v = 0.02 * np.random.rand() - 0.01\n",
        "  v_array.append(tf.fill(w.shape, v))"
      ],
      "metadata": {
        "id": "XRSISCKw7GT9"
      },
      "execution_count": 10,
      "outputs": []
    },
    {
      "cell_type": "markdown",
      "metadata": {
        "id": "oPKvxUYsOldM"
      },
      "source": [
        "Step2"
      ]
    },
    {
      "cell_type": "code",
      "source": [
        "# @tf.function\n",
        "def adversary(dataset, additive_weights, eps1 = 1, eta1 = 0.1):\n",
        "    weights = model.get_weights()\n",
        "    new_weights = []\n",
        "    for w, v in zip(weights, additive_weights):\n",
        "      new_weights.append(w + v)\n",
        "    model.set_weights(new_weights)\n",
        "\n",
        "    adversarial_image_list = []\n",
        "    # eps1 = 1\n",
        "    # eta1 = 0.1\n",
        "    for (images, labels) in dataset:\n",
        "      for (image, label) in zip(images, labels):\n",
        "        image = tf.Variable([image])\n",
        "\n",
        "        initial_noise = 2 * eps1 * np.random.rand() - eps1\n",
        "        image_dashed = tf.add(image, initial_noise)\n",
        "\n",
        "        # この書き方でも，initial_noiseが一様に入ってしまっている．\n",
        "        # tf.Variableで1次元追加しているから，より内側のループを作らないといけないよ\n",
        "        # image_dashed_list = []\n",
        "        # for image_0 in image:\n",
        "        #   for image_h in image_0:\n",
        "        #     for image_v in image_h:\n",
        "        #       for image_pixel in image_v:\n",
        "        #         initial_noise = 2 * eps1 * np.random.rand() - eps1\n",
        "        #         image_pixel_dashed = tf.add(image_pixel, initial_noise)\n",
        "        # image_dashed_list.append(image_pixel_dashed)\n",
        "        # # image_dashed = np.array(image_dashed_list)\n",
        "        # image_dashed = tf.convert_to_tensor(image_dashed_list)\n",
        "        # print(image_dashed.numpy())\n",
        "\n",
        "        for j in range(5):\n",
        "          with tf.GradientTape() as tape:\n",
        "            tape.watch(image_dashed)\n",
        "            prediction = model(image_dashed, training = True)\n",
        "            loss = loss_object(label, prediction)\n",
        "          gradients = tape.gradient(loss, image_dashed)\n",
        "          image_med = tf.add(image_dashed, tf.multiply(eta1, gradients))\n",
        "          difference = tf.subtract(image_med, image)\n",
        "          if tf.norm(difference) <= eps1:\n",
        "            image_dashed = image_med \n",
        "          else:\n",
        "            image_dashed = difference\n",
        "            image_dashed = tf.multiply(image_dashed, eps1)\n",
        "            image_dashed = tf.divide(image_dashed, tf.norm(difference))\n",
        "            image_dashed = tf.add(image_dashed, image)\n",
        "        adversarial_image_list.append(image_dashed[0])\n",
        "        adversarial_image = np.array(adversarial_image_list)\n",
        "\n",
        "    return adversarial_image"
      ],
      "metadata": {
        "id": "V3j-1XQM1lMS"
      },
      "execution_count": 11,
      "outputs": []
    },
    {
      "cell_type": "code",
      "source": [
        "# # def adversary(dataset, additive_weights, eps1 = 1, eta1 = 0.1):\n",
        "# weights = model.get_weights()\n",
        "# new_weights = []\n",
        "# for w, v in zip(weights, v_array):\n",
        "#   new_weights.append(w + v)\n",
        "# model.set_weights(new_weights)\n",
        "\n",
        "# adversarial_image_list = []\n",
        "# eps1 = 1\n",
        "# eta1 = 0.1\n",
        "# for (images, labels) in train_ds:\n",
        "#   for (image, label) in zip(images, labels):\n",
        "#     image = tf.Variable([image])\n",
        "\n",
        "#     initial_noise = 2 * eps1 * np.random.rand() - eps1\n",
        "#     image_dashed = tf.add(image, initial_noise)\n",
        "#     # print(image)\n",
        "#     # print(image_dashed)\n",
        "\n",
        "#     # この書き方でも，initial_noiseが一様に入ってしまっている．\n",
        "#     # tf.Variableで1次元追加しているから，より内側のループを作らないといけないよ\n",
        "#     # image_dashed_list = []\n",
        "#     # for image_0 in image:\n",
        "#     #   for image_h in image_0:\n",
        "#     #     for image_v in image_h:\n",
        "#     #       for image_pixel in image_v:\n",
        "#     #         initial_noise = 2 * eps1 * np.random.rand() - eps1\n",
        "#     #         image_pixel_dashed = tf.add(image_pixel, initial_noise)\n",
        "#     # image_dashed_list.append(image_pixel_dashed)\n",
        "#     # # image_dashed = np.array(image_dashed_list)\n",
        "#     # image_dashed = tf.convert_to_tensor(image_dashed_list)\n",
        "#     # print(image_dashed.numpy())\n",
        "\n",
        "#     for j in range(1):\n",
        "#       with tf.GradientTape() as tape:\n",
        "#         tape.watch(image_dashed)\n",
        "#         prediction = model(image_dashed, training = False)\n",
        "#         # print(prediction)\n",
        "#         loss = loss_object(label, prediction)\n",
        "#       gradients = tape.gradient(loss, image_dashed)\n",
        "#       image_med = tf.add(image_dashed, tf.multiply(eta1, gradients))\n",
        "#       difference = tf.subtract(image_med, image)\n",
        "#       if tf.norm(difference) <= eps1:\n",
        "#         image_dashed = image_med \n",
        "#       else:\n",
        "#         image_dashed = difference\n",
        "#         image_dashed = tf.multiply(image_dashed, eps1)\n",
        "#         image_dashed = tf.divide(image_dashed, tf.norm(difference))\n",
        "#         image_dashed = tf.add(image_dashed, image)\n",
        "#     adversarial_image_list.append(image_dashed[0])\n",
        "#     adversarial_image = np.array(adversarial_image_list)\n",
        "\n",
        "# print(adversarial_image[0] - x_train[0])\n",
        "\n",
        "# # print(adversarial_image)"
      ],
      "metadata": {
        "id": "2HGcWwIkljvE"
      },
      "execution_count": 12,
      "outputs": []
    },
    {
      "cell_type": "code",
      "source": [
        "x_adversarial = adversary(train_ds, v_array)"
      ],
      "metadata": {
        "id": "LzKpbHhf5dup"
      },
      "execution_count": 13,
      "outputs": []
    },
    {
      "cell_type": "code",
      "source": [
        "from PIL import Image\n",
        "import matplotlib.pyplot as plt"
      ],
      "metadata": {
        "id": "Mpzb3j_c8kKF"
      },
      "execution_count": 14,
      "outputs": []
    },
    {
      "cell_type": "code",
      "source": [
        "# for i in range(10):\n",
        "plt.imshow(np.squeeze(x_adversarial[0] - x_train[0]))\n",
        "plt.show()\n",
        "print(y_train[0])"
      ],
      "metadata": {
        "colab": {
          "base_uri": "https://localhost:8080/",
          "height": 282
        },
        "id": "aMZJZZYgA04d",
        "outputId": "5f04cbea-6ce4-4e3a-8e0d-6f972e450287"
      },
      "execution_count": 15,
      "outputs": [
        {
          "output_type": "display_data",
          "data": {
            "text/plain": [
              "<Figure size 432x288 with 1 Axes>"
            ],
            "image/png": "[encoded data removed]"
          },
          "metadata": {
            "needs_background": "light"
          }
        },
        {
          "output_type": "stream",
          "name": "stdout",
          "text": [
            "8\n"
          ]
        }
      ]
    },
    {
      "cell_type": "code",
      "source": [
        "plt.imshow(np.squeeze(x_adversarial[0]))\n",
        "plt.show()\n",
        "print(y_train[0])"
      ],
      "metadata": {
        "colab": {
          "base_uri": "https://localhost:8080/",
          "height": 282
        },
        "id": "6uaLXa-goe2o",
        "outputId": "5228bbed-4dcb-4a3d-b0e3-f20b9c651118"
      },
      "execution_count": 16,
      "outputs": [
        {
          "output_type": "display_data",
          "data": {
            "text/plain": [
              "<Figure size 432x288 with 1 Axes>"
            ],
            "image/png": "[encoded data removed]"
          },
          "metadata": {
            "needs_background": "light"
          }
        },
        {
          "output_type": "stream",
          "name": "stdout",
          "text": [
            "8\n"
          ]
        }
      ]
    },
    {
      "cell_type": "code",
      "source": [
        "# %matplotlib inline\n",
        "# for i in range(10):\n",
        "#   plt.imshow(np.squeeze(x_adversarial[i]))\n",
        "#   plt.show()\n",
        "#   print(y_train[i])"
      ],
      "metadata": {
        "id": "8C5mNp328y8q"
      },
      "execution_count": 17,
      "outputs": []
    },
    {
      "cell_type": "markdown",
      "metadata": {
        "id": "Nxll_dsBOldN"
      },
      "source": [
        "Step3"
      ]
    },
    {
      "cell_type": "code",
      "source": [
        "adversarial_ds = tf.data.Dataset.from_tensor_slices(\n",
        "    (x_adversarial, y_train)\n",
        ").batch(100)"
      ],
      "metadata": {
        "id": "Cjf3frQs4Io4"
      },
      "execution_count": 18,
      "outputs": []
    },
    {
      "cell_type": "code",
      "source": [
        "def calculate_loss(dataset, batch_size = 100):\n",
        "  batch_size = 100\n",
        "  loss_sum = 0.0\n",
        "  for (images, labels) in adversarial_ds:\n",
        "    predictions = model(images, training = True)\n",
        "    loss = loss_object(labels, predictions)\n",
        "    loss_sum_batch = loss * batch_size\n",
        "    loss_sum = tf.add(loss_sum_batch, loss_sum)\n",
        "  average_loss = tf.divide(loss_sum, 1000)\n",
        "  return average_loss"
      ],
      "metadata": {
        "id": "ozxGyYUn3KGZ"
      },
      "execution_count": 19,
      "outputs": []
    },
    {
      "cell_type": "code",
      "source": [
        "# batch_size = 100\n",
        "# loss_sum = 0.0\n",
        "# for (images, labels) in adversarial_ds:\n",
        "#   predictions = model(images, training = True)\n",
        "#   loss = loss_object(labels, predictions)\n",
        "#   loss_sum_batch = loss * batch_size\n",
        "#   loss_sum = tf.add(loss_sum_batch, loss_sum)\n",
        "# average_loss = tf.divide(loss_sum, 1000)"
      ],
      "metadata": {
        "id": "rD2V2J5I5E1E"
      },
      "execution_count": 20,
      "outputs": []
    },
    {
      "cell_type": "code",
      "source": [
        "# def calculate_loss(dataset, batch_size = 100, additive_noise = v_array):\n",
        "#   # batch_size = 100\n",
        "#   loss_sum = 0.0\n",
        "#   for (images, labels) in dataset:\n",
        "#     predictions = model(images, training = True)\n",
        "#     loss = loss_object(labels, predictions)\n",
        "#     loss_sum_batch = loss * batch_size\n",
        "#     loss_sum = tf.add(loss_sum_batch, loss_sum)\n",
        "#   average_loss = tf.divide(loss_sum, 1000)\n",
        "#   return average_loss"
      ],
      "metadata": {
        "id": "H1C7Lp-g3JzR"
      },
      "execution_count": 21,
      "outputs": []
    },
    {
      "cell_type": "markdown",
      "metadata": {
        "id": "_rZ9Ze5LOldN"
      },
      "source": [
        "Step4"
      ]
    },
    {
      "cell_type": "code",
      "source": [
        "w_flat = np.ndarray([])\n",
        "for w in ordinary_weights:\n",
        "  w_reshape = tf.reshape(w, [-1])\n",
        "  print(w_reshape.shape)\n",
        "  w_flat = np.hstack([w_flat, w_reshape])\n",
        "w_fro = np.linalg.norm(w_flat)\n",
        "print(w_fro)\n",
        "  # w_fro = tf.add(w_fro, np.linalg.norm(w_reshape, ord=2))\n",
        "# w_fro = tf.sqrt(w_fro)"
      ],
      "metadata": {
        "id": "BD3YeKDISlsZ",
        "colab": {
          "base_uri": "https://localhost:8080/"
        },
        "outputId": "ce84f7e3-4aaa-4350-b5bf-970a9d393225"
      },
      "execution_count": 22,
      "outputs": [
        {
          "output_type": "stream",
          "name": "stdout",
          "text": [
            "(288,)\n",
            "(32,)\n",
            "(2768896,)\n",
            "(128,)\n",
            "(1280,)\n",
            "(10,)\n",
            "16.906106672650523\n"
          ]
        }
      ]
    },
    {
      "cell_type": "code",
      "source": [
        "from matplotlib.rcsetup import validate_axisbelow\n",
        "eps2 = 1\n",
        "eta2 = 0.1\n",
        "batch_size = 100\n",
        "\n",
        "v_updated = v_array\n",
        "# vの初期値を，step2で固定したvに設定する．\n",
        "\n",
        "for i in range(5):\n",
        "\n",
        "  # 重みをw + (現在の)vに設定する　　ここから\n",
        "  current_weights = []\n",
        "  for layer_weights, v in zip(ordinary_weights, v_updated):\n",
        "    current_layer_weight = tf.add(layer_weights, v)\n",
        "    current_weights.append(current_layer_weight)\n",
        "  model.set_weights(current_weights)\n",
        "  # 重みをw + (現在の)vに設定する　　ここまで\n",
        "\n",
        "  # gradientの計算　　ここから\n",
        "  with tf.GradientTape() as tape:\n",
        "    loss = calculate_loss(adversarial_ds)\n",
        "  gradients = tape.gradient(loss, model.trainable_variables)\n",
        "  # print(gradients)\n",
        "  #　計算できているし，悪い値ではない．\n",
        "  # gradientの計算　　ここまで\n",
        "\n",
        "  # gradientのノルムの計算　　ここから\n",
        "  gradients_flat = np.ndarray([])\n",
        "  for g in gradients:\n",
        "    g_reshape = tf.reshape(g, [-1])\n",
        "    gradients_flat = np.hstack([gradients_flat, g_reshape])\n",
        "  gradients_norm = np.linalg.norm(gradients_flat)\n",
        "  print(gradients_flat)\n",
        "  print(gradients_norm)\n",
        "  # ループを経るごとに値が大きくなり過ぎている？\n",
        "  # gradientのノルムの計算　　ここまで\n",
        "\n",
        "  # 勾配降下の実行　　ここから\n",
        "  v_difference = []\n",
        "  for g, v in zip(gradients, v_updated):\n",
        "    g = tf.divide(g, gradients_norm)\n",
        "    g = tf.multiply(g, w_fro)\n",
        "    g = tf.multiply(eta2, g)\n",
        "    v_med = tf.add(v, g)\n",
        "  # 勾配降下の実行　　ここまで\n",
        "\n",
        "  # (現在の)vと(元の重み)wの差分と，　そのノルムを計算　　ここから\n",
        "    v_difference.append(v_med)\n",
        "  v_difference_flat = np.ndarray([])\n",
        "  for v_flat in v_difference:\n",
        "    v_flat_reshape = tf.reshape(v_flat, [-1])\n",
        "    # print(g_reshape.shape)\n",
        "    v_difference_flat = np.hstack([v_difference_flat, v_flat_reshape])\n",
        "  v_difference_norm = np.linalg.norm(v_difference_flat)\n",
        "  # (現在の)vと(元の重み)wの差分と，　そのノルムを計算　　ここまで\n",
        "\n",
        "  # 射影の実行　　ここから\n",
        "  if v_difference_norm <= eps2:\n",
        "    v_hat = v_med \n",
        "  else:\n",
        "    v_hat = v_difference\n",
        "    for v_hat_med in v_hat:\n",
        "      v_hat_med = tf.multiply(v_hat_med, eps2)\n",
        "      v_hat_med = tf.divide(v_hat_med, v_difference_norm)\n",
        "  v_updated = v_hat\n",
        "  # print(v_updated)　計算できているし，悪い値ではない．\n",
        "  # 射影の実行　　ここまで"
      ],
      "metadata": {
        "colab": {
          "base_uri": "https://localhost:8080/"
        },
        "id": "dhQbeCasjVRp",
        "outputId": "49dfeaa4-2d06-4571-bc63-cf83a45598b1"
      },
      "execution_count": 23,
      "outputs": [
        {
          "output_type": "stream",
          "name": "stdout",
          "text": [
            "[ 0.          0.          0.         ... -0.01466845  0.00876029\n",
            "  0.00177864]\n",
            "0.024671979859245265\n",
            "[ 0.          0.          0.         ... -0.0827188   0.06884347\n",
            "  0.00108441]\n",
            "0.17389860564704276\n",
            "[ 0.          0.          0.         ... -0.10503002  0.12445395\n",
            " -0.02888424]\n",
            "0.3229957954817389\n",
            "[ 0.          0.          0.         ... -0.11203143  0.12223837\n",
            " -0.06734335]\n",
            "0.5237436710057816\n",
            "[ 0.          0.          0.         ... -0.11428382  0.01859043\n",
            " -0.089456  ]\n",
            "0.7718595771008931\n"
          ]
        }
      ]
    },
    {
      "cell_type": "markdown",
      "metadata": {
        "id": "44ZjbQBHOldN"
      },
      "source": [
        "Step5"
      ]
    },
    {
      "cell_type": "code",
      "source": [
        "eta3 = 1\n",
        "\n",
        "weights_updated = ordinary_weights\n",
        "for i in range(5):\n",
        "\n",
        "  # 重みをw + (step4で決めた)vに設定する　　ここから\n",
        "  current_weights = []\n",
        "  for layer_weights, v in zip(weights_updated, v_updated):\n",
        "    current_layer_weight = tf.add(layer_weights, v)\n",
        "    current_weights.append(current_layer_weight)\n",
        "  model.set_weights(current_weights)\n",
        "  print(current_weights) \n",
        "  # 計算できている．\n",
        "  # 重みをw + (step4で決めた)vに設定する　　ここまで\n",
        "\n",
        "  # gradientの計算　　ここから\n",
        "  with tf.GradientTape() as tape:\n",
        "    loss = calculate_loss(adversarial_ds)\n",
        "  gradients = tape.gradient(loss, model.trainable_variables)\n",
        "  # print(gradients) \n",
        "  # 計算できているが，値が大きい．\n",
        "  # gradientの計算　　ここまで\n",
        "\n",
        "  # 勾配降下の実行　　ここから\n",
        "  w_hat = []\n",
        "  for wu, g in zip(weights_updated, gradients):\n",
        "    g_med = tf.multiply(eta3, g)\n",
        "    wu = tf.subtract(wu, g_med)\n",
        "    w_hat.append(wu)\n",
        "  weights_updated = w_hat\n",
        "  # 勾配降下の実行　　ここまで"
      ],
      "metadata": {
        "id": "_0bd9iyoK9EB",
        "outputId": "9fc5487f-5505-469e-9602-30e5b6bc1f40",
        "colab": {
          "base_uri": "https://localhost:8080/"
        }
      },
      "execution_count": 27,
      "outputs": [
        {
          "output_type": "stream",
          "name": "stdout",
          "text": [
            "[<tf.Tensor: shape=(3, 3, 1, 32), dtype=float32, numpy=\n",
            "array([[[[-0.06202856,  0.05014295, -0.13210635, -0.02812419,\n",
            "          -0.06932499,  0.00484942, -0.02333109,  0.09960455,\n",
            "           0.08221591,  0.05807344,  0.09276387,  0.08513191,\n",
            "          -0.07835997, -0.01386511, -0.12508532,  0.03721204,\n",
            "           0.04695119,  0.08166332,  0.03454292,  0.11252072,\n",
            "           0.03706631,  0.10830042,  0.03283131,  0.05252631,\n",
            "          -0.03488038,  0.03010919,  0.13159613, -0.00925291,\n",
            "          -0.01023544,  0.09489118, -0.10082849, -0.14053127]],\n",
            "\n",
            "        [[ 0.00249597, -0.0783968 ,  0.1233348 ,  0.06705999,\n",
            "           0.04455622,  0.06970557, -0.13608931,  0.12992008,\n",
            "          -0.02727869,  0.13120602, -0.06019425,  0.08174113,\n",
            "           0.07721741,  0.05482655, -0.00259487, -0.09592575,\n",
            "           0.06706798, -0.06159519,  0.1392652 ,  0.0987114 ,\n",
            "          -0.01633115, -0.08949215, -0.01266699,  0.13684088,\n",
            "           0.14086436, -0.13885099, -0.05200045,  0.13710865,\n",
            "          -0.13077584, -0.11186041, -0.07764996,  0.10710786]],\n",
            "\n",
            "        [[-0.03069373,  0.00702035, -0.12879436, -0.10537256,\n",
            "          -0.02802309,  0.05892619, -0.12192397,  0.03425682,\n",
            "          -0.12366469,  0.10084802,  0.04794036,  0.05822574,\n",
            "           0.00668348, -0.07263146, -0.08305137, -0.09823068,\n",
            "          -0.05065713,  0.07076769, -0.03317459, -0.02624558,\n",
            "          -0.00258005, -0.01363758, -0.00982865,  0.08919286,\n",
            "           0.10976722,  0.07036143,  0.13991347, -0.13388212,\n",
            "           0.13103156, -0.037078  , -0.10752662, -0.0866694 ]]],\n",
            "\n",
            "\n",
            "       [[[ 0.07412991, -0.09595376,  0.04210574, -0.0476921 ,\n",
            "          -0.03610288,  0.03001294, -0.14109747, -0.07817936,\n",
            "          -0.08793124,  0.04588717, -0.08404898,  0.0604384 ,\n",
            "          -0.09408069, -0.00367751,  0.14138883,  0.09411197,\n",
            "          -0.02879274, -0.08985905,  0.0796673 , -0.11078194,\n",
            "          -0.0948124 , -0.06853653,  0.12520373,  0.13625085,\n",
            "          -0.11714021, -0.01037177,  0.13489549,  0.04826215,\n",
            "          -0.03527536, -0.08881437, -0.12745184,  0.09332817]],\n",
            "\n",
            "        [[ 0.11378999, -0.00791644,  0.07322919, -0.09426878,\n",
            "          -0.0334513 , -0.00302515,  0.0700658 , -0.06241706,\n",
            "          -0.0490274 , -0.079239  ,  0.07385737,  0.06505667,\n",
            "           0.00539763, -0.0419738 ,  0.08032528,  0.02251007,\n",
            "           0.12563002,  0.13094811,  0.02967912, -0.12132199,\n",
            "          -0.14012006,  0.09857967,  0.02680316, -0.09036358,\n",
            "          -0.05032411, -0.010203  , -0.07579824,  0.00898009,\n",
            "           0.01308346, -0.06985516,  0.04522499,  0.11637746]],\n",
            "\n",
            "        [[ 0.11213239,  0.00241366, -0.00729572, -0.07177906,\n",
            "           0.11773024,  0.12709284, -0.10576161,  0.05821696,\n",
            "          -0.05235052,  0.01336579,  0.09582432, -0.0530754 ,\n",
            "          -0.10397846, -0.01828397,  0.03170863,  0.08607525,\n",
            "           0.02994699, -0.11480095,  0.08653051, -0.09112059,\n",
            "          -0.05838883, -0.07402168,  0.04332776,  0.0007032 ,\n",
            "           0.07268424, -0.05909398, -0.07649388,  0.09262356,\n",
            "          -0.09645572,  0.13073309,  0.1012977 , -0.04572782]]],\n",
            "\n",
            "\n",
            "       [[[-0.0979704 , -0.08454851, -0.09056082,  0.00423675,\n",
            "          -0.10456272,  0.02287782, -0.12610416,  0.07786541,\n",
            "          -0.00419454,  0.0730189 , -0.08534931, -0.01275937,\n",
            "           0.09062144,  0.04615173, -0.02734124,  0.02106691,\n",
            "          -0.03535959, -0.08256157,  0.12913978,  0.02704783,\n",
            "           0.04879972, -0.01569001, -0.01388762,  0.03570298,\n",
            "          -0.01455456,  0.0197239 ,  0.0830362 ,  0.05966683,\n",
            "           0.07741973, -0.0789151 , -0.105644  , -0.06022153]],\n",
            "\n",
            "        [[ 0.08758924, -0.05517194,  0.05702516,  0.10708377,\n",
            "          -0.11925049, -0.03550239,  0.13866036, -0.077084  ,\n",
            "           0.09195867, -0.0518985 , -0.02180975,  0.02071336,\n",
            "           0.11471535,  0.0963527 ,  0.11030308, -0.12262659,\n",
            "           0.08906279, -0.08450389, -0.14244479,  0.11484022,\n",
            "           0.10688809,  0.03647962, -0.12267335,  0.12980713,\n",
            "          -0.04347834,  0.00548032, -0.12233563, -0.01448329,\n",
            "          -0.07177961, -0.10123114, -0.0144809 ,  0.04654104]],\n",
            "\n",
            "        [[ 0.03782939,  0.1269201 ,  0.08049585,  0.05070779,\n",
            "          -0.04414065,  0.03340891, -0.10825917, -0.12431242,\n",
            "           0.0717251 ,  0.09378184,  0.05687805, -0.02080578,\n",
            "          -0.01133154, -0.07365052, -0.09479876,  0.0411536 ,\n",
            "           0.05902185,  0.12052424,  0.08089989, -0.06529094,\n",
            "          -0.13747199, -0.1350784 , -0.00036737, -0.02964802,\n",
            "          -0.11615554,  0.08652553, -0.14339562,  0.00238161,\n",
            "           0.13349923, -0.07748175,  0.08071343, -0.03476932]]]],\n",
            "      dtype=float32)>, <tf.Tensor: shape=(32,), dtype=float32, numpy=\n",
            "array([0.00564745, 0.00575184, 0.00561189, 0.00564333, 0.00557935,\n",
            "       0.00536721, 0.00548672, 0.00575975, 0.00604404, 0.00550545,\n",
            "       0.00569685, 0.00590295, 0.00571191, 0.00568212, 0.00574921,\n",
            "       0.00573382, 0.00559204, 0.00554901, 0.00566101, 0.00570602,\n",
            "       0.00550203, 0.00600863, 0.00543001, 0.00578629, 0.00573254,\n",
            "       0.00560171, 0.00562991, 0.00540037, 0.00557529, 0.00601533,\n",
            "       0.00568759, 0.00557825], dtype=float32)>, <tf.Tensor: shape=(21632, 128), dtype=float32, numpy=\n",
            "array([[-0.01104863, -0.01569864,  0.00177612, ..., -0.01847203,\n",
            "         0.00310316,  0.00771448],\n",
            "       [-0.00925448, -0.00265528, -0.0087408 , ..., -0.00247854,\n",
            "         0.0007723 , -0.02143149],\n",
            "       [ 0.00774184, -0.02313373, -0.01894658, ..., -0.004254  ,\n",
            "        -0.02058014,  0.00213366],\n",
            "       ...,\n",
            "       [ 0.00313085,  0.00512195, -0.00227743, ..., -0.0040302 ,\n",
            "        -0.00072019, -0.00145574],\n",
            "       [ 0.00160082, -0.0177766 , -0.01249252, ..., -0.00406026,\n",
            "         0.00312158, -0.02011246],\n",
            "       [ 0.00019007, -0.01070052, -0.01990644, ..., -0.00559603,\n",
            "        -0.00999445, -0.00700347]], dtype=float32)>, <tf.Tensor: shape=(128,), dtype=float32, numpy=\n",
            "array([-0.00842417, -0.00555125, -0.00325719, -0.00645145, -0.00600843,\n",
            "       -0.00353425, -0.00389545, -0.00574814, -0.00842584, -0.00552653,\n",
            "       -0.00363381, -0.00842575, -0.00603284, -0.00454745, -0.00518222,\n",
            "       -0.0073994 , -0.00346652, -0.00333299, -0.00842554, -0.00363305,\n",
            "       -0.00400056, -0.00744497, -0.00576731, -0.00622624, -0.00382348,\n",
            "       -0.00700141, -0.00398429, -0.00696739, -0.00568952, -0.0071525 ,\n",
            "       -0.00590593, -0.00362756, -0.00581427, -0.0035934 , -0.00615328,\n",
            "       -0.00577438, -0.0063106 , -0.00667454, -0.00593763, -0.00514508,\n",
            "       -0.00590599, -0.00809625, -0.00638245, -0.00351065, -0.00644704,\n",
            "       -0.00913655, -0.00630396, -0.00649505, -0.00376223, -0.00842588,\n",
            "       -0.00842615, -0.00604389, -0.00365584, -0.00593873, -0.00576415,\n",
            "       -0.00484582, -0.00661672, -0.00825501, -0.00612159, -0.00661015,\n",
            "       -0.00331496, -0.00679756, -0.00609577, -0.00341438, -0.00564251,\n",
            "       -0.0080354 , -0.0075368 , -0.00600003, -0.00331273, -0.0035093 ,\n",
            "       -0.00629108, -0.00601081, -0.00362004, -0.00356843, -0.00362582,\n",
            "       -0.00615842, -0.00344443, -0.00842577, -0.00324133, -0.00341243,\n",
            "       -0.00600886, -0.00569651, -0.00370386, -0.00333893, -0.00651092,\n",
            "       -0.00576783, -0.00607937, -0.00803237, -0.00671545, -0.00500785,\n",
            "       -0.00782678, -0.00781939, -0.00573   , -0.00842585, -0.00574003,\n",
            "       -0.00490013, -0.00566727, -0.00568579, -0.00601775, -0.00686955,\n",
            "       -0.00842245, -0.00602241, -0.00619941, -0.00888851, -0.00563707,\n",
            "       -0.0035871 , -0.00643113, -0.00838527, -0.00376128, -0.00569968,\n",
            "       -0.00601837, -0.00396748, -0.00782878, -0.00645805, -0.00338571,\n",
            "       -0.00683478, -0.00327492, -0.00672262, -0.00636292, -0.00403743,\n",
            "       -0.00839901, -0.00739377, -0.00589352, -0.00595199, -0.00404924,\n",
            "       -0.00581757, -0.0041369 , -0.00534613], dtype=float32)>, <tf.Tensor: shape=(128, 10), dtype=float32, numpy=\n",
            "array([[ 0.01920497,  0.05783387, -0.0979767 , ..., -0.1444712 ,\n",
            "         0.18752769, -0.15595494],\n",
            "       [ 0.1855257 , -0.16534883, -0.19107886, ..., -0.04171174,\n",
            "         0.13292825,  0.05250443],\n",
            "       [ 0.17774679,  0.1789255 , -0.07314532, ...,  0.04281954,\n",
            "         0.12669507,  0.04535551],\n",
            "       ...,\n",
            "       [-0.14799179,  0.10000856,  0.03800937, ..., -0.14066488,\n",
            "        -0.00318479, -0.11953481],\n",
            "       [-0.20608117, -0.08037669, -0.1288431 , ..., -0.09889741,\n",
            "        -0.00110024,  0.06943077],\n",
            "       [ 0.16364554, -0.19957103, -0.19758053, ..., -0.04074754,\n",
            "         0.00933902,  0.0485101 ]], dtype=float32)>, <tf.Tensor: shape=(10,), dtype=float32, numpy=\n",
            "array([-1.5239873 ,  0.15517887,  1.1823833 , -1.1677042 , -1.0648707 ,\n",
            "        5.893493  , -2.4881983 , -2.9765184 ,  2.3450503 , -0.4431223 ],\n",
            "      dtype=float32)>]\n",
            "[<tf.Tensor: shape=(3, 3, 1, 32), dtype=float32, numpy=\n",
            "array([[[[-0.06202856,  0.05014295, -0.13210635, -0.02812419,\n",
            "          -0.06932499,  0.00484942, -0.02333109,  0.09960455,\n",
            "           0.08221591,  0.05807344,  0.09276387,  0.08513191,\n",
            "          -0.07835997, -0.01386511, -0.12508532,  0.03721204,\n",
            "           0.04695119,  0.08166332,  0.03454292,  0.11252072,\n",
            "           0.03706631,  0.10830042,  0.03283131,  0.05252631,\n",
            "          -0.03488038,  0.03010919,  0.13159613, -0.00925291,\n",
            "          -0.01023544,  0.09489118, -0.10082849, -0.14053127]],\n",
            "\n",
            "        [[ 0.00249597, -0.0783968 ,  0.1233348 ,  0.06705999,\n",
            "           0.04455622,  0.06970557, -0.13608931,  0.12992008,\n",
            "          -0.02727869,  0.13120602, -0.06019425,  0.08174113,\n",
            "           0.07721741,  0.05482655, -0.00259487, -0.09592575,\n",
            "           0.06706798, -0.06159519,  0.1392652 ,  0.0987114 ,\n",
            "          -0.01633115, -0.08949215, -0.01266699,  0.13684088,\n",
            "           0.14086436, -0.13885099, -0.05200045,  0.13710865,\n",
            "          -0.13077584, -0.11186041, -0.07764996,  0.10710786]],\n",
            "\n",
            "        [[-0.03069373,  0.00702035, -0.12879436, -0.10537256,\n",
            "          -0.02802309,  0.05892619, -0.12192397,  0.03425682,\n",
            "          -0.12366469,  0.10084802,  0.04794036,  0.05822574,\n",
            "           0.00668348, -0.07263146, -0.08305137, -0.09823068,\n",
            "          -0.05065713,  0.07076769, -0.03317459, -0.02624558,\n",
            "          -0.00258005, -0.01363758, -0.00982865,  0.08919286,\n",
            "           0.10976722,  0.07036143,  0.13991347, -0.13388212,\n",
            "           0.13103156, -0.037078  , -0.10752662, -0.0866694 ]]],\n",
            "\n",
            "\n",
            "       [[[ 0.07412991, -0.09595376,  0.04210574, -0.0476921 ,\n",
            "          -0.03610288,  0.03001294, -0.14109747, -0.07817936,\n",
            "          -0.08793124,  0.04588717, -0.08404898,  0.0604384 ,\n",
            "          -0.09408069, -0.00367751,  0.14138883,  0.09411197,\n",
            "          -0.02879274, -0.08985905,  0.0796673 , -0.11078194,\n",
            "          -0.0948124 , -0.06853653,  0.12520373,  0.13625085,\n",
            "          -0.11714021, -0.01037177,  0.13489549,  0.04826215,\n",
            "          -0.03527536, -0.08881437, -0.12745184,  0.09332817]],\n",
            "\n",
            "        [[ 0.11378999, -0.00791644,  0.07322919, -0.09426878,\n",
            "          -0.0334513 , -0.00302515,  0.0700658 , -0.06241706,\n",
            "          -0.0490274 , -0.079239  ,  0.07385737,  0.06505667,\n",
            "           0.00539763, -0.0419738 ,  0.08032528,  0.02251007,\n",
            "           0.12563002,  0.13094811,  0.02967912, -0.12132199,\n",
            "          -0.14012006,  0.09857967,  0.02680316, -0.09036358,\n",
            "          -0.05032411, -0.010203  , -0.07579824,  0.00898009,\n",
            "           0.01308346, -0.06985516,  0.04522499,  0.11637746]],\n",
            "\n",
            "        [[ 0.11213239,  0.00241366, -0.00729572, -0.07177906,\n",
            "           0.11773024,  0.12709284, -0.10576161,  0.05821696,\n",
            "          -0.05235052,  0.01336579,  0.09582432, -0.0530754 ,\n",
            "          -0.10397846, -0.01828397,  0.03170863,  0.08607525,\n",
            "           0.02994699, -0.11480095,  0.08653051, -0.09112059,\n",
            "          -0.05838883, -0.07402168,  0.04332776,  0.0007032 ,\n",
            "           0.07268424, -0.05909398, -0.07649388,  0.09262356,\n",
            "          -0.09645572,  0.13073309,  0.1012977 , -0.04572782]]],\n",
            "\n",
            "\n",
            "       [[[-0.0979704 , -0.08454851, -0.09056082,  0.00423675,\n",
            "          -0.10456272,  0.02287782, -0.12610416,  0.07786541,\n",
            "          -0.00419454,  0.0730189 , -0.08534931, -0.01275937,\n",
            "           0.09062144,  0.04615173, -0.02734124,  0.02106691,\n",
            "          -0.03535959, -0.08256157,  0.12913978,  0.02704783,\n",
            "           0.04879972, -0.01569001, -0.01388762,  0.03570298,\n",
            "          -0.01455456,  0.0197239 ,  0.0830362 ,  0.05966683,\n",
            "           0.07741973, -0.0789151 , -0.105644  , -0.06022153]],\n",
            "\n",
            "        [[ 0.08758924, -0.05517194,  0.05702516,  0.10708377,\n",
            "          -0.11925049, -0.03550239,  0.13866036, -0.077084  ,\n",
            "           0.09195867, -0.0518985 , -0.02180975,  0.02071336,\n",
            "           0.11471535,  0.0963527 ,  0.11030308, -0.12262659,\n",
            "           0.08906279, -0.08450389, -0.14244479,  0.11484022,\n",
            "           0.10688809,  0.03647962, -0.12267335,  0.12980713,\n",
            "          -0.04347834,  0.00548032, -0.12233563, -0.01448329,\n",
            "          -0.07177961, -0.10123114, -0.0144809 ,  0.04654104]],\n",
            "\n",
            "        [[ 0.03782939,  0.1269201 ,  0.08049585,  0.05070779,\n",
            "          -0.04414065,  0.03340891, -0.10825917, -0.12431242,\n",
            "           0.0717251 ,  0.09378184,  0.05687805, -0.02080578,\n",
            "          -0.01133154, -0.07365052, -0.09479876,  0.0411536 ,\n",
            "           0.05902185,  0.12052424,  0.08089989, -0.06529094,\n",
            "          -0.13747199, -0.1350784 , -0.00036737, -0.02964802,\n",
            "          -0.11615554,  0.08652553, -0.14339562,  0.00238161,\n",
            "           0.13349923, -0.07748175,  0.08071343, -0.03476932]]]],\n",
            "      dtype=float32)>, <tf.Tensor: shape=(32,), dtype=float32, numpy=\n",
            "array([0.00564745, 0.00575184, 0.00561189, 0.00564333, 0.00557935,\n",
            "       0.00536721, 0.00548672, 0.00575975, 0.00604404, 0.00550545,\n",
            "       0.00569685, 0.00590295, 0.00571191, 0.00568212, 0.00574921,\n",
            "       0.00573382, 0.00559204, 0.00554901, 0.00566101, 0.00570602,\n",
            "       0.00550203, 0.00600863, 0.00543001, 0.00578629, 0.00573254,\n",
            "       0.00560171, 0.00562991, 0.00540037, 0.00557529, 0.00601533,\n",
            "       0.00568759, 0.00557825], dtype=float32)>, <tf.Tensor: shape=(21632, 128), dtype=float32, numpy=\n",
            "array([[-0.01104863, -0.01569864,  0.00177612, ..., -0.01847203,\n",
            "         0.00310316,  0.00771448],\n",
            "       [-0.00925448, -0.00265528, -0.0087408 , ..., -0.00247854,\n",
            "         0.0007723 , -0.02143149],\n",
            "       [ 0.00774184, -0.02313373, -0.01894658, ..., -0.004254  ,\n",
            "        -0.02058014,  0.00213366],\n",
            "       ...,\n",
            "       [ 0.00313085,  0.00512195, -0.00227743, ..., -0.0040302 ,\n",
            "        -0.00072019, -0.00145574],\n",
            "       [ 0.00160082, -0.0177766 , -0.01249252, ..., -0.00406026,\n",
            "         0.00312158, -0.02011246],\n",
            "       [ 0.00019007, -0.01070052, -0.01990644, ..., -0.00559603,\n",
            "        -0.00999445, -0.00700347]], dtype=float32)>, <tf.Tensor: shape=(128,), dtype=float32, numpy=\n",
            "array([-0.00842417, -0.00555125, -0.00325719, -0.00645145, -0.00600843,\n",
            "       -0.00353425, -0.00389545, -0.00574814, -0.00842584, -0.00552653,\n",
            "       -0.00363381, -0.00842575, -0.00603284, -0.00454745, -0.00518222,\n",
            "       -0.0073994 , -0.00346652, -0.00333299, -0.00842554, -0.00363305,\n",
            "       -0.00400056, -0.00744497, -0.00576731, -0.00622624, -0.00382348,\n",
            "       -0.00700141, -0.00398429, -0.00696739, -0.00568952, -0.0071525 ,\n",
            "       -0.00590593, -0.00362756, -0.00581427, -0.0035934 , -0.00615328,\n",
            "       -0.00577438, -0.0063106 , -0.00667454, -0.00593763, -0.00514508,\n",
            "       -0.00590599, -0.00809625, -0.00638245, -0.00351065, -0.00644704,\n",
            "       -0.00913655, -0.00630396, -0.00649505, -0.00376223, -0.00842588,\n",
            "       -0.00842615, -0.00604389, -0.00365584, -0.00593873, -0.00576415,\n",
            "       -0.00484582, -0.00661672, -0.00825501, -0.00612159, -0.00661015,\n",
            "       -0.00331496, -0.00679756, -0.00609577, -0.00341438, -0.00564251,\n",
            "       -0.0080354 , -0.0075368 , -0.00600003, -0.00331273, -0.0035093 ,\n",
            "       -0.00629108, -0.00601081, -0.00362004, -0.00356843, -0.00362582,\n",
            "       -0.00615842, -0.00344443, -0.00842577, -0.00324133, -0.00341243,\n",
            "       -0.00600886, -0.00569651, -0.00370386, -0.00333893, -0.00651092,\n",
            "       -0.00576783, -0.00607937, -0.00803237, -0.00671545, -0.00500785,\n",
            "       -0.00782678, -0.00781939, -0.00573   , -0.00842585, -0.00574003,\n",
            "       -0.00490013, -0.00566727, -0.00568579, -0.00601775, -0.00686955,\n",
            "       -0.00842245, -0.00602241, -0.00619941, -0.00888851, -0.00563707,\n",
            "       -0.0035871 , -0.00643113, -0.00838527, -0.00376128, -0.00569968,\n",
            "       -0.00601837, -0.00396748, -0.00782878, -0.00645805, -0.00338571,\n",
            "       -0.00683478, -0.00327492, -0.00672262, -0.00636292, -0.00403743,\n",
            "       -0.00839901, -0.00739377, -0.00589352, -0.00595199, -0.00404924,\n",
            "       -0.00581757, -0.0041369 , -0.00534613], dtype=float32)>, <tf.Tensor: shape=(128, 10), dtype=float32, numpy=\n",
            "array([[ 0.01920497,  0.05783387, -0.0979767 , ..., -0.1444712 ,\n",
            "         0.18752769, -0.15595494],\n",
            "       [ 0.1855257 , -0.16534883, -0.19107886, ..., -0.04171174,\n",
            "         0.13292825,  0.05250443],\n",
            "       [ 0.17774679,  0.1789255 , -0.07314532, ...,  0.04281954,\n",
            "         0.12669507,  0.04535551],\n",
            "       ...,\n",
            "       [-0.14799179,  0.10000856,  0.03800937, ..., -0.14066488,\n",
            "        -0.00318479, -0.11953481],\n",
            "       [-0.20608117, -0.08037669, -0.1288431 , ..., -0.09889741,\n",
            "        -0.00110024,  0.06943077],\n",
            "       [ 0.16364554, -0.19957103, -0.19758053, ..., -0.04074754,\n",
            "         0.00933902,  0.0485101 ]], dtype=float32)>, <tf.Tensor: shape=(10,), dtype=float32, numpy=\n",
            "array([-1.4205618 ,  0.24809894,  1.2667801 , -1.0665246 , -0.9647799 ,\n",
            "        5.0260434 , -2.3774173 , -2.8616526 ,  2.408534  , -0.34681547],\n",
            "      dtype=float32)>]\n",
            "[<tf.Tensor: shape=(3, 3, 1, 32), dtype=float32, numpy=\n",
            "array([[[[-0.06202856,  0.05014295, -0.13210635, -0.02812419,\n",
            "          -0.06932499,  0.00484942, -0.02333109,  0.09960455,\n",
            "           0.08221591,  0.05807344,  0.09276387,  0.08513191,\n",
            "          -0.07835997, -0.01386511, -0.12508532,  0.03721204,\n",
            "           0.04695119,  0.08166332,  0.03454292,  0.11252072,\n",
            "           0.03706631,  0.10830042,  0.03283131,  0.05252631,\n",
            "          -0.03488038,  0.03010919,  0.13159613, -0.00925291,\n",
            "          -0.01023544,  0.09489118, -0.10082849, -0.14053127]],\n",
            "\n",
            "        [[ 0.00249597, -0.0783968 ,  0.1233348 ,  0.06705999,\n",
            "           0.04455622,  0.06970557, -0.13608931,  0.12992008,\n",
            "          -0.02727869,  0.13120602, -0.06019425,  0.08174113,\n",
            "           0.07721741,  0.05482655, -0.00259487, -0.09592575,\n",
            "           0.06706798, -0.06159519,  0.1392652 ,  0.0987114 ,\n",
            "          -0.01633115, -0.08949215, -0.01266699,  0.13684088,\n",
            "           0.14086436, -0.13885099, -0.05200045,  0.13710865,\n",
            "          -0.13077584, -0.11186041, -0.07764996,  0.10710786]],\n",
            "\n",
            "        [[-0.03069373,  0.00702035, -0.12879436, -0.10537256,\n",
            "          -0.02802309,  0.05892619, -0.12192397,  0.03425682,\n",
            "          -0.12366469,  0.10084802,  0.04794036,  0.05822574,\n",
            "           0.00668348, -0.07263146, -0.08305137, -0.09823068,\n",
            "          -0.05065713,  0.07076769, -0.03317459, -0.02624558,\n",
            "          -0.00258005, -0.01363758, -0.00982865,  0.08919286,\n",
            "           0.10976722,  0.07036143,  0.13991347, -0.13388212,\n",
            "           0.13103156, -0.037078  , -0.10752662, -0.0866694 ]]],\n",
            "\n",
            "\n",
            "       [[[ 0.07412991, -0.09595376,  0.04210574, -0.0476921 ,\n",
            "          -0.03610288,  0.03001294, -0.14109747, -0.07817936,\n",
            "          -0.08793124,  0.04588717, -0.08404898,  0.0604384 ,\n",
            "          -0.09408069, -0.00367751,  0.14138883,  0.09411197,\n",
            "          -0.02879274, -0.08985905,  0.0796673 , -0.11078194,\n",
            "          -0.0948124 , -0.06853653,  0.12520373,  0.13625085,\n",
            "          -0.11714021, -0.01037177,  0.13489549,  0.04826215,\n",
            "          -0.03527536, -0.08881437, -0.12745184,  0.09332817]],\n",
            "\n",
            "        [[ 0.11378999, -0.00791644,  0.07322919, -0.09426878,\n",
            "          -0.0334513 , -0.00302515,  0.0700658 , -0.06241706,\n",
            "          -0.0490274 , -0.079239  ,  0.07385737,  0.06505667,\n",
            "           0.00539763, -0.0419738 ,  0.08032528,  0.02251007,\n",
            "           0.12563002,  0.13094811,  0.02967912, -0.12132199,\n",
            "          -0.14012006,  0.09857967,  0.02680316, -0.09036358,\n",
            "          -0.05032411, -0.010203  , -0.07579824,  0.00898009,\n",
            "           0.01308346, -0.06985516,  0.04522499,  0.11637746]],\n",
            "\n",
            "        [[ 0.11213239,  0.00241366, -0.00729572, -0.07177906,\n",
            "           0.11773024,  0.12709284, -0.10576161,  0.05821696,\n",
            "          -0.05235052,  0.01336579,  0.09582432, -0.0530754 ,\n",
            "          -0.10397846, -0.01828397,  0.03170863,  0.08607525,\n",
            "           0.02994699, -0.11480095,  0.08653051, -0.09112059,\n",
            "          -0.05838883, -0.07402168,  0.04332776,  0.0007032 ,\n",
            "           0.07268424, -0.05909398, -0.07649388,  0.09262356,\n",
            "          -0.09645572,  0.13073309,  0.1012977 , -0.04572782]]],\n",
            "\n",
            "\n",
            "       [[[-0.0979704 , -0.08454851, -0.09056082,  0.00423675,\n",
            "          -0.10456272,  0.02287782, -0.12610416,  0.07786541,\n",
            "          -0.00419454,  0.0730189 , -0.08534931, -0.01275937,\n",
            "           0.09062144,  0.04615173, -0.02734124,  0.02106691,\n",
            "          -0.03535959, -0.08256157,  0.12913978,  0.02704783,\n",
            "           0.04879972, -0.01569001, -0.01388762,  0.03570298,\n",
            "          -0.01455456,  0.0197239 ,  0.0830362 ,  0.05966683,\n",
            "           0.07741973, -0.0789151 , -0.105644  , -0.06022153]],\n",
            "\n",
            "        [[ 0.08758924, -0.05517194,  0.05702516,  0.10708377,\n",
            "          -0.11925049, -0.03550239,  0.13866036, -0.077084  ,\n",
            "           0.09195867, -0.0518985 , -0.02180975,  0.02071336,\n",
            "           0.11471535,  0.0963527 ,  0.11030308, -0.12262659,\n",
            "           0.08906279, -0.08450389, -0.14244479,  0.11484022,\n",
            "           0.10688809,  0.03647962, -0.12267335,  0.12980713,\n",
            "          -0.04347834,  0.00548032, -0.12233563, -0.01448329,\n",
            "          -0.07177961, -0.10123114, -0.0144809 ,  0.04654104]],\n",
            "\n",
            "        [[ 0.03782939,  0.1269201 ,  0.08049585,  0.05070779,\n",
            "          -0.04414065,  0.03340891, -0.10825917, -0.12431242,\n",
            "           0.0717251 ,  0.09378184,  0.05687805, -0.02080578,\n",
            "          -0.01133154, -0.07365052, -0.09479876,  0.0411536 ,\n",
            "           0.05902185,  0.12052424,  0.08089989, -0.06529094,\n",
            "          -0.13747199, -0.1350784 , -0.00036737, -0.02964802,\n",
            "          -0.11615554,  0.08652553, -0.14339562,  0.00238161,\n",
            "           0.13349923, -0.07748175,  0.08071343, -0.03476932]]]],\n",
            "      dtype=float32)>, <tf.Tensor: shape=(32,), dtype=float32, numpy=\n",
            "array([0.00564745, 0.00575184, 0.00561189, 0.00564333, 0.00557935,\n",
            "       0.00536721, 0.00548672, 0.00575975, 0.00604404, 0.00550545,\n",
            "       0.00569685, 0.00590295, 0.00571191, 0.00568212, 0.00574921,\n",
            "       0.00573382, 0.00559204, 0.00554901, 0.00566101, 0.00570602,\n",
            "       0.00550203, 0.00600863, 0.00543001, 0.00578629, 0.00573254,\n",
            "       0.00560171, 0.00562991, 0.00540037, 0.00557529, 0.00601533,\n",
            "       0.00568759, 0.00557825], dtype=float32)>, <tf.Tensor: shape=(21632, 128), dtype=float32, numpy=\n",
            "array([[-0.01104863, -0.01569864,  0.00177612, ..., -0.01847203,\n",
            "         0.00310316,  0.00771448],\n",
            "       [-0.00925448, -0.00265528, -0.0087408 , ..., -0.00247854,\n",
            "         0.0007723 , -0.02143149],\n",
            "       [ 0.00774184, -0.02313373, -0.01894658, ..., -0.004254  ,\n",
            "        -0.02058014,  0.00213366],\n",
            "       ...,\n",
            "       [ 0.00313085,  0.00512195, -0.00227743, ..., -0.0040302 ,\n",
            "        -0.00072019, -0.00145574],\n",
            "       [ 0.00160082, -0.0177766 , -0.01249252, ..., -0.00406026,\n",
            "         0.00312158, -0.02011246],\n",
            "       [ 0.00019007, -0.01070052, -0.01990644, ..., -0.00559603,\n",
            "        -0.00999445, -0.00700347]], dtype=float32)>, <tf.Tensor: shape=(128,), dtype=float32, numpy=\n",
            "array([-0.00842417, -0.00555125, -0.00325719, -0.00645145, -0.00600843,\n",
            "       -0.00353425, -0.00389545, -0.00574814, -0.00842584, -0.00552653,\n",
            "       -0.00363381, -0.00842575, -0.00603284, -0.00454745, -0.00518222,\n",
            "       -0.0073994 , -0.00346652, -0.00333299, -0.00842554, -0.00363305,\n",
            "       -0.00400056, -0.00744497, -0.00576731, -0.00622624, -0.00382348,\n",
            "       -0.00700141, -0.00398429, -0.00696739, -0.00568952, -0.0071525 ,\n",
            "       -0.00590593, -0.00362756, -0.00581427, -0.0035934 , -0.00615328,\n",
            "       -0.00577438, -0.0063106 , -0.00667454, -0.00593763, -0.00514508,\n",
            "       -0.00590599, -0.00809625, -0.00638245, -0.00351065, -0.00644704,\n",
            "       -0.00913655, -0.00630396, -0.00649505, -0.00376223, -0.00842588,\n",
            "       -0.00842615, -0.00604389, -0.00365584, -0.00593873, -0.00576415,\n",
            "       -0.00484582, -0.00661672, -0.00825501, -0.00612159, -0.00661015,\n",
            "       -0.00331496, -0.00679756, -0.00609577, -0.00341438, -0.00564251,\n",
            "       -0.0080354 , -0.0075368 , -0.00600003, -0.00331273, -0.0035093 ,\n",
            "       -0.00629108, -0.00601081, -0.00362004, -0.00356843, -0.00362582,\n",
            "       -0.00615842, -0.00344443, -0.00842577, -0.00324133, -0.00341243,\n",
            "       -0.00600886, -0.00569651, -0.00370386, -0.00333893, -0.00651092,\n",
            "       -0.00576783, -0.00607937, -0.00803237, -0.00671545, -0.00500785,\n",
            "       -0.00782678, -0.00781939, -0.00573   , -0.00842585, -0.00574003,\n",
            "       -0.00490013, -0.00566727, -0.00568579, -0.00601775, -0.00686955,\n",
            "       -0.00842245, -0.00602241, -0.00619941, -0.00888851, -0.00563707,\n",
            "       -0.0035871 , -0.00643113, -0.00838527, -0.00376128, -0.00569968,\n",
            "       -0.00601837, -0.00396748, -0.00782878, -0.00645805, -0.00338571,\n",
            "       -0.00683478, -0.00327492, -0.00672262, -0.00636292, -0.00403743,\n",
            "       -0.00839901, -0.00739377, -0.00589352, -0.00595199, -0.00404924,\n",
            "       -0.00581757, -0.0041369 , -0.00534613], dtype=float32)>, <tf.Tensor: shape=(128, 10), dtype=float32, numpy=\n",
            "array([[ 0.01920497,  0.05783387, -0.0979767 , ..., -0.1444712 ,\n",
            "         0.18752769, -0.15595494],\n",
            "       [ 0.1855257 , -0.16534883, -0.19107886, ..., -0.04171174,\n",
            "         0.13292825,  0.05250443],\n",
            "       [ 0.17774679,  0.1789255 , -0.07314532, ...,  0.04281954,\n",
            "         0.12669507,  0.04535551],\n",
            "       ...,\n",
            "       [-0.14799179,  0.10000856,  0.03800937, ..., -0.14066488,\n",
            "        -0.00318479, -0.11953481],\n",
            "       [-0.20608117, -0.08037669, -0.1288431 , ..., -0.09889741,\n",
            "        -0.00110024,  0.06943077],\n",
            "       [ 0.16364554, -0.19957103, -0.19758053, ..., -0.04074754,\n",
            "         0.00933902,  0.0485101 ]], dtype=float32)>, <tf.Tensor: shape=(10,), dtype=float32, numpy=\n",
            "array([-1.3179821 ,  0.33656466,  1.3389138 , -0.9665481 , -0.86602014,\n",
            "        4.2195244 , -2.2669628 , -2.7469888 ,  2.434175  , -0.2529714 ],\n",
            "      dtype=float32)>]\n",
            "[<tf.Tensor: shape=(3, 3, 1, 32), dtype=float32, numpy=\n",
            "array([[[[-0.06202856,  0.05014295, -0.13210635, -0.02812419,\n",
            "          -0.06932499,  0.00484942, -0.02333109,  0.09960455,\n",
            "           0.08221591,  0.05807344,  0.09276387,  0.08513191,\n",
            "          -0.07835997, -0.01386511, -0.12508532,  0.03721204,\n",
            "           0.04695119,  0.08166332,  0.03454292,  0.11252072,\n",
            "           0.03706631,  0.10830042,  0.03283131,  0.05252631,\n",
            "          -0.03488038,  0.03010919,  0.13159613, -0.00925291,\n",
            "          -0.01023544,  0.09489118, -0.10082849, -0.14053127]],\n",
            "\n",
            "        [[ 0.00249597, -0.0783968 ,  0.1233348 ,  0.06705999,\n",
            "           0.04455622,  0.06970557, -0.13608931,  0.12992008,\n",
            "          -0.02727869,  0.13120602, -0.06019425,  0.08174113,\n",
            "           0.07721741,  0.05482655, -0.00259487, -0.09592575,\n",
            "           0.06706798, -0.06159519,  0.1392652 ,  0.0987114 ,\n",
            "          -0.01633115, -0.08949215, -0.01266699,  0.13684088,\n",
            "           0.14086436, -0.13885099, -0.05200045,  0.13710865,\n",
            "          -0.13077584, -0.11186041, -0.07764996,  0.10710786]],\n",
            "\n",
            "        [[-0.03069373,  0.00702035, -0.12879436, -0.10537256,\n",
            "          -0.02802309,  0.05892619, -0.12192397,  0.03425682,\n",
            "          -0.12366469,  0.10084802,  0.04794036,  0.05822574,\n",
            "           0.00668348, -0.07263146, -0.08305137, -0.09823068,\n",
            "          -0.05065713,  0.07076769, -0.03317459, -0.02624558,\n",
            "          -0.00258005, -0.01363758, -0.00982865,  0.08919286,\n",
            "           0.10976722,  0.07036143,  0.13991347, -0.13388212,\n",
            "           0.13103156, -0.037078  , -0.10752662, -0.0866694 ]]],\n",
            "\n",
            "\n",
            "       [[[ 0.07412991, -0.09595376,  0.04210574, -0.0476921 ,\n",
            "          -0.03610288,  0.03001294, -0.14109747, -0.07817936,\n",
            "          -0.08793124,  0.04588717, -0.08404898,  0.0604384 ,\n",
            "          -0.09408069, -0.00367751,  0.14138883,  0.09411197,\n",
            "          -0.02879274, -0.08985905,  0.0796673 , -0.11078194,\n",
            "          -0.0948124 , -0.06853653,  0.12520373,  0.13625085,\n",
            "          -0.11714021, -0.01037177,  0.13489549,  0.04826215,\n",
            "          -0.03527536, -0.08881437, -0.12745184,  0.09332817]],\n",
            "\n",
            "        [[ 0.11378999, -0.00791644,  0.07322919, -0.09426878,\n",
            "          -0.0334513 , -0.00302515,  0.0700658 , -0.06241706,\n",
            "          -0.0490274 , -0.079239  ,  0.07385737,  0.06505667,\n",
            "           0.00539763, -0.0419738 ,  0.08032528,  0.02251007,\n",
            "           0.12563002,  0.13094811,  0.02967912, -0.12132199,\n",
            "          -0.14012006,  0.09857967,  0.02680316, -0.09036358,\n",
            "          -0.05032411, -0.010203  , -0.07579824,  0.00898009,\n",
            "           0.01308346, -0.06985516,  0.04522499,  0.11637746]],\n",
            "\n",
            "        [[ 0.11213239,  0.00241366, -0.00729572, -0.07177906,\n",
            "           0.11773024,  0.12709284, -0.10576161,  0.05821696,\n",
            "          -0.05235052,  0.01336579,  0.09582432, -0.0530754 ,\n",
            "          -0.10397846, -0.01828397,  0.03170863,  0.08607525,\n",
            "           0.02994699, -0.11480095,  0.08653051, -0.09112059,\n",
            "          -0.05838883, -0.07402168,  0.04332776,  0.0007032 ,\n",
            "           0.07268424, -0.05909398, -0.07649388,  0.09262356,\n",
            "          -0.09645572,  0.13073309,  0.1012977 , -0.04572782]]],\n",
            "\n",
            "\n",
            "       [[[-0.0979704 , -0.08454851, -0.09056082,  0.00423675,\n",
            "          -0.10456272,  0.02287782, -0.12610416,  0.07786541,\n",
            "          -0.00419454,  0.0730189 , -0.08534931, -0.01275937,\n",
            "           0.09062144,  0.04615173, -0.02734124,  0.02106691,\n",
            "          -0.03535959, -0.08256157,  0.12913978,  0.02704783,\n",
            "           0.04879972, -0.01569001, -0.01388762,  0.03570298,\n",
            "          -0.01455456,  0.0197239 ,  0.0830362 ,  0.05966683,\n",
            "           0.07741973, -0.0789151 , -0.105644  , -0.06022153]],\n",
            "\n",
            "        [[ 0.08758924, -0.05517194,  0.05702516,  0.10708377,\n",
            "          -0.11925049, -0.03550239,  0.13866036, -0.077084  ,\n",
            "           0.09195867, -0.0518985 , -0.02180975,  0.02071336,\n",
            "           0.11471535,  0.0963527 ,  0.11030308, -0.12262659,\n",
            "           0.08906279, -0.08450389, -0.14244479,  0.11484022,\n",
            "           0.10688809,  0.03647962, -0.12267335,  0.12980713,\n",
            "          -0.04347834,  0.00548032, -0.12233563, -0.01448329,\n",
            "          -0.07177961, -0.10123114, -0.0144809 ,  0.04654104]],\n",
            "\n",
            "        [[ 0.03782939,  0.1269201 ,  0.08049585,  0.05070779,\n",
            "          -0.04414065,  0.03340891, -0.10825917, -0.12431242,\n",
            "           0.0717251 ,  0.09378184,  0.05687805, -0.02080578,\n",
            "          -0.01133154, -0.07365052, -0.09479876,  0.0411536 ,\n",
            "           0.05902185,  0.12052424,  0.08089989, -0.06529094,\n",
            "          -0.13747199, -0.1350784 , -0.00036737, -0.02964802,\n",
            "          -0.11615554,  0.08652553, -0.14339562,  0.00238161,\n",
            "           0.13349923, -0.07748175,  0.08071343, -0.03476932]]]],\n",
            "      dtype=float32)>, <tf.Tensor: shape=(32,), dtype=float32, numpy=\n",
            "array([0.00564745, 0.00575184, 0.00561189, 0.00564333, 0.00557935,\n",
            "       0.00536721, 0.00548672, 0.00575975, 0.00604404, 0.00550545,\n",
            "       0.00569685, 0.00590295, 0.00571191, 0.00568212, 0.00574921,\n",
            "       0.00573382, 0.00559204, 0.00554901, 0.00566101, 0.00570602,\n",
            "       0.00550203, 0.00600863, 0.00543001, 0.00578629, 0.00573254,\n",
            "       0.00560171, 0.00562991, 0.00540037, 0.00557529, 0.00601533,\n",
            "       0.00568759, 0.00557825], dtype=float32)>, <tf.Tensor: shape=(21632, 128), dtype=float32, numpy=\n",
            "array([[-0.01104863, -0.01569864,  0.00177612, ..., -0.01847203,\n",
            "         0.00310316,  0.00771448],\n",
            "       [-0.00925448, -0.00265528, -0.0087408 , ..., -0.00247854,\n",
            "         0.0007723 , -0.02143149],\n",
            "       [ 0.00774184, -0.02313373, -0.01894658, ..., -0.004254  ,\n",
            "        -0.02058014,  0.00213366],\n",
            "       ...,\n",
            "       [ 0.00313085,  0.00512195, -0.00227743, ..., -0.0040302 ,\n",
            "        -0.00072019, -0.00145574],\n",
            "       [ 0.00160082, -0.0177766 , -0.01249252, ..., -0.00406026,\n",
            "         0.00312158, -0.02011246],\n",
            "       [ 0.00019007, -0.01070052, -0.01990644, ..., -0.00559603,\n",
            "        -0.00999445, -0.00700347]], dtype=float32)>, <tf.Tensor: shape=(128,), dtype=float32, numpy=\n",
            "array([-0.00842417, -0.00555125, -0.00325719, -0.00645145, -0.00600843,\n",
            "       -0.00353425, -0.00389545, -0.00574814, -0.00842584, -0.00552653,\n",
            "       -0.00363381, -0.00842575, -0.00603284, -0.00454745, -0.00518222,\n",
            "       -0.0073994 , -0.00346652, -0.00333299, -0.00842554, -0.00363305,\n",
            "       -0.00400056, -0.00744497, -0.00576731, -0.00622624, -0.00382348,\n",
            "       -0.00700141, -0.00398429, -0.00696739, -0.00568952, -0.0071525 ,\n",
            "       -0.00590593, -0.00362756, -0.00581427, -0.0035934 , -0.00615328,\n",
            "       -0.00577438, -0.0063106 , -0.00667454, -0.00593763, -0.00514508,\n",
            "       -0.00590599, -0.00809625, -0.00638245, -0.00351065, -0.00644704,\n",
            "       -0.00913655, -0.00630396, -0.00649505, -0.00376223, -0.00842588,\n",
            "       -0.00842615, -0.00604389, -0.00365584, -0.00593873, -0.00576415,\n",
            "       -0.00484582, -0.00661672, -0.00825501, -0.00612159, -0.00661015,\n",
            "       -0.00331496, -0.00679756, -0.00609577, -0.00341438, -0.00564251,\n",
            "       -0.0080354 , -0.0075368 , -0.00600003, -0.00331273, -0.0035093 ,\n",
            "       -0.00629108, -0.00601081, -0.00362004, -0.00356843, -0.00362582,\n",
            "       -0.00615842, -0.00344443, -0.00842577, -0.00324133, -0.00341243,\n",
            "       -0.00600886, -0.00569651, -0.00370386, -0.00333893, -0.00651092,\n",
            "       -0.00576783, -0.00607937, -0.00803237, -0.00671545, -0.00500785,\n",
            "       -0.00782678, -0.00781939, -0.00573   , -0.00842585, -0.00574003,\n",
            "       -0.00490013, -0.00566727, -0.00568579, -0.00601775, -0.00686955,\n",
            "       -0.00842245, -0.00602241, -0.00619941, -0.00888851, -0.00563707,\n",
            "       -0.0035871 , -0.00643113, -0.00838527, -0.00376128, -0.00569968,\n",
            "       -0.00601837, -0.00396748, -0.00782878, -0.00645805, -0.00338571,\n",
            "       -0.00683478, -0.00327492, -0.00672262, -0.00636292, -0.00403743,\n",
            "       -0.00839901, -0.00739377, -0.00589352, -0.00595199, -0.00404924,\n",
            "       -0.00581757, -0.0041369 , -0.00534613], dtype=float32)>, <tf.Tensor: shape=(128, 10), dtype=float32, numpy=\n",
            "array([[ 0.01920497,  0.05783387, -0.0979767 , ..., -0.1444712 ,\n",
            "         0.18752769, -0.15595494],\n",
            "       [ 0.1855257 , -0.16534883, -0.19107886, ..., -0.04171174,\n",
            "         0.13292825,  0.05250443],\n",
            "       [ 0.17774679,  0.1789255 , -0.07314532, ...,  0.04281954,\n",
            "         0.12669507,  0.04535551],\n",
            "       ...,\n",
            "       [-0.14799179,  0.10000856,  0.03800937, ..., -0.14066488,\n",
            "        -0.00318479, -0.11953481],\n",
            "       [-0.20608117, -0.08037669, -0.1288431 , ..., -0.09889741,\n",
            "        -0.00110024,  0.06943077],\n",
            "       [ 0.16364554, -0.19957103, -0.19758053, ..., -0.04074754,\n",
            "         0.00933902,  0.0485101 ]], dtype=float32)>, <tf.Tensor: shape=(10,), dtype=float32, numpy=\n",
            "array([-1.2170718 ,  0.41640353,  1.3878798 , -0.8689388 , -0.7698752 ,\n",
            "        3.5236135 , -2.1571589 , -2.632729  ,  2.3935153 , -0.16393414],\n",
            "      dtype=float32)>]\n",
            "[<tf.Tensor: shape=(3, 3, 1, 32), dtype=float32, numpy=\n",
            "array([[[[-0.06202856,  0.05014295, -0.13210635, -0.02812419,\n",
            "          -0.06932499,  0.00484942, -0.02333109,  0.09960455,\n",
            "           0.08221591,  0.05807344,  0.09276387,  0.08513191,\n",
            "          -0.07835997, -0.01386511, -0.12508532,  0.03721204,\n",
            "           0.04695119,  0.08166332,  0.03454292,  0.11252072,\n",
            "           0.03706631,  0.10830042,  0.03283131,  0.05252631,\n",
            "          -0.03488038,  0.03010919,  0.13159613, -0.00925291,\n",
            "          -0.01023544,  0.09489118, -0.10082849, -0.14053127]],\n",
            "\n",
            "        [[ 0.00249597, -0.0783968 ,  0.1233348 ,  0.06705999,\n",
            "           0.04455622,  0.06970557, -0.13608931,  0.12992008,\n",
            "          -0.02727869,  0.13120602, -0.06019425,  0.08174113,\n",
            "           0.07721741,  0.05482655, -0.00259487, -0.09592575,\n",
            "           0.06706798, -0.06159519,  0.1392652 ,  0.0987114 ,\n",
            "          -0.01633115, -0.08949215, -0.01266699,  0.13684088,\n",
            "           0.14086436, -0.13885099, -0.05200045,  0.13710865,\n",
            "          -0.13077584, -0.11186041, -0.07764996,  0.10710786]],\n",
            "\n",
            "        [[-0.03069373,  0.00702035, -0.12879436, -0.10537256,\n",
            "          -0.02802309,  0.05892619, -0.12192397,  0.03425682,\n",
            "          -0.12366469,  0.10084802,  0.04794036,  0.05822574,\n",
            "           0.00668348, -0.07263146, -0.08305137, -0.09823068,\n",
            "          -0.05065713,  0.07076769, -0.03317459, -0.02624558,\n",
            "          -0.00258005, -0.01363758, -0.00982865,  0.08919286,\n",
            "           0.10976722,  0.07036143,  0.13991347, -0.13388212,\n",
            "           0.13103156, -0.037078  , -0.10752662, -0.0866694 ]]],\n",
            "\n",
            "\n",
            "       [[[ 0.07412991, -0.09595376,  0.04210574, -0.0476921 ,\n",
            "          -0.03610288,  0.03001294, -0.14109747, -0.07817936,\n",
            "          -0.08793124,  0.04588717, -0.08404898,  0.0604384 ,\n",
            "          -0.09408069, -0.00367751,  0.14138883,  0.09411197,\n",
            "          -0.02879274, -0.08985905,  0.0796673 , -0.11078194,\n",
            "          -0.0948124 , -0.06853653,  0.12520373,  0.13625085,\n",
            "          -0.11714021, -0.01037177,  0.13489549,  0.04826215,\n",
            "          -0.03527536, -0.08881437, -0.12745184,  0.09332817]],\n",
            "\n",
            "        [[ 0.11378999, -0.00791644,  0.07322919, -0.09426878,\n",
            "          -0.0334513 , -0.00302515,  0.0700658 , -0.06241706,\n",
            "          -0.0490274 , -0.079239  ,  0.07385737,  0.06505667,\n",
            "           0.00539763, -0.0419738 ,  0.08032528,  0.02251007,\n",
            "           0.12563002,  0.13094811,  0.02967912, -0.12132199,\n",
            "          -0.14012006,  0.09857967,  0.02680316, -0.09036358,\n",
            "          -0.05032411, -0.010203  , -0.07579824,  0.00898009,\n",
            "           0.01308346, -0.06985516,  0.04522499,  0.11637746]],\n",
            "\n",
            "        [[ 0.11213239,  0.00241366, -0.00729572, -0.07177906,\n",
            "           0.11773024,  0.12709284, -0.10576161,  0.05821696,\n",
            "          -0.05235052,  0.01336579,  0.09582432, -0.0530754 ,\n",
            "          -0.10397846, -0.01828397,  0.03170863,  0.08607525,\n",
            "           0.02994699, -0.11480095,  0.08653051, -0.09112059,\n",
            "          -0.05838883, -0.07402168,  0.04332776,  0.0007032 ,\n",
            "           0.07268424, -0.05909398, -0.07649388,  0.09262356,\n",
            "          -0.09645572,  0.13073309,  0.1012977 , -0.04572782]]],\n",
            "\n",
            "\n",
            "       [[[-0.0979704 , -0.08454851, -0.09056082,  0.00423675,\n",
            "          -0.10456272,  0.02287782, -0.12610416,  0.07786541,\n",
            "          -0.00419454,  0.0730189 , -0.08534931, -0.01275937,\n",
            "           0.09062144,  0.04615173, -0.02734124,  0.02106691,\n",
            "          -0.03535959, -0.08256157,  0.12913978,  0.02704783,\n",
            "           0.04879972, -0.01569001, -0.01388762,  0.03570298,\n",
            "          -0.01455456,  0.0197239 ,  0.0830362 ,  0.05966683,\n",
            "           0.07741973, -0.0789151 , -0.105644  , -0.06022153]],\n",
            "\n",
            "        [[ 0.08758924, -0.05517194,  0.05702516,  0.10708377,\n",
            "          -0.11925049, -0.03550239,  0.13866036, -0.077084  ,\n",
            "           0.09195867, -0.0518985 , -0.02180975,  0.02071336,\n",
            "           0.11471535,  0.0963527 ,  0.11030308, -0.12262659,\n",
            "           0.08906279, -0.08450389, -0.14244479,  0.11484022,\n",
            "           0.10688809,  0.03647962, -0.12267335,  0.12980713,\n",
            "          -0.04347834,  0.00548032, -0.12233563, -0.01448329,\n",
            "          -0.07177961, -0.10123114, -0.0144809 ,  0.04654104]],\n",
            "\n",
            "        [[ 0.03782939,  0.1269201 ,  0.08049585,  0.05070779,\n",
            "          -0.04414065,  0.03340891, -0.10825917, -0.12431242,\n",
            "           0.0717251 ,  0.09378184,  0.05687805, -0.02080578,\n",
            "          -0.01133154, -0.07365052, -0.09479876,  0.0411536 ,\n",
            "           0.05902185,  0.12052424,  0.08089989, -0.06529094,\n",
            "          -0.13747199, -0.1350784 , -0.00036737, -0.02964802,\n",
            "          -0.11615554,  0.08652553, -0.14339562,  0.00238161,\n",
            "           0.13349923, -0.07748175,  0.08071343, -0.03476932]]]],\n",
            "      dtype=float32)>, <tf.Tensor: shape=(32,), dtype=float32, numpy=\n",
            "array([0.00564745, 0.00575184, 0.00561189, 0.00564333, 0.00557935,\n",
            "       0.00536721, 0.00548672, 0.00575975, 0.00604404, 0.00550545,\n",
            "       0.00569685, 0.00590295, 0.00571191, 0.00568212, 0.00574921,\n",
            "       0.00573382, 0.00559204, 0.00554901, 0.00566101, 0.00570602,\n",
            "       0.00550203, 0.00600863, 0.00543001, 0.00578629, 0.00573254,\n",
            "       0.00560171, 0.00562991, 0.00540037, 0.00557529, 0.00601533,\n",
            "       0.00568759, 0.00557825], dtype=float32)>, <tf.Tensor: shape=(21632, 128), dtype=float32, numpy=\n",
            "array([[-0.01104863, -0.01569864,  0.00177612, ..., -0.01847203,\n",
            "         0.00310316,  0.00771448],\n",
            "       [-0.00925448, -0.00265528, -0.0087408 , ..., -0.00247854,\n",
            "         0.0007723 , -0.02143149],\n",
            "       [ 0.00774184, -0.02313373, -0.01894658, ..., -0.004254  ,\n",
            "        -0.02058014,  0.00213366],\n",
            "       ...,\n",
            "       [ 0.00313085,  0.00512195, -0.00227743, ..., -0.0040302 ,\n",
            "        -0.00072019, -0.00145574],\n",
            "       [ 0.00160082, -0.0177766 , -0.01249252, ..., -0.00406026,\n",
            "         0.00312158, -0.02011246],\n",
            "       [ 0.00019007, -0.01070052, -0.01990644, ..., -0.00559603,\n",
            "        -0.00999445, -0.00700347]], dtype=float32)>, <tf.Tensor: shape=(128,), dtype=float32, numpy=\n",
            "array([-0.00842417, -0.00555125, -0.00325719, -0.00645145, -0.00600843,\n",
            "       -0.00353425, -0.00389545, -0.00574814, -0.00842584, -0.00552653,\n",
            "       -0.00363381, -0.00842575, -0.00603284, -0.00454745, -0.00518222,\n",
            "       -0.0073994 , -0.00346652, -0.00333299, -0.00842554, -0.00363305,\n",
            "       -0.00400056, -0.00744497, -0.00576731, -0.00622624, -0.00382348,\n",
            "       -0.00700141, -0.00398429, -0.00696739, -0.00568952, -0.0071525 ,\n",
            "       -0.00590593, -0.00362756, -0.00581427, -0.0035934 , -0.00615328,\n",
            "       -0.00577438, -0.0063106 , -0.00667454, -0.00593763, -0.00514508,\n",
            "       -0.00590599, -0.00809625, -0.00638245, -0.00351065, -0.00644704,\n",
            "       -0.00913655, -0.00630396, -0.00649505, -0.00376223, -0.00842588,\n",
            "       -0.00842615, -0.00604389, -0.00365584, -0.00593873, -0.00576415,\n",
            "       -0.00484582, -0.00661672, -0.00825501, -0.00612159, -0.00661015,\n",
            "       -0.00331496, -0.00679756, -0.00609577, -0.00341438, -0.00564251,\n",
            "       -0.0080354 , -0.0075368 , -0.00600003, -0.00331273, -0.0035093 ,\n",
            "       -0.00629108, -0.00601081, -0.00362004, -0.00356843, -0.00362582,\n",
            "       -0.00615842, -0.00344443, -0.00842577, -0.00324133, -0.00341243,\n",
            "       -0.00600886, -0.00569651, -0.00370386, -0.00333893, -0.00651092,\n",
            "       -0.00576783, -0.00607937, -0.00803237, -0.00671545, -0.00500785,\n",
            "       -0.00782678, -0.00781939, -0.00573   , -0.00842585, -0.00574003,\n",
            "       -0.00490013, -0.00566727, -0.00568579, -0.00601775, -0.00686955,\n",
            "       -0.00842245, -0.00602241, -0.00619941, -0.00888851, -0.00563707,\n",
            "       -0.0035871 , -0.00643113, -0.00838527, -0.00376128, -0.00569968,\n",
            "       -0.00601837, -0.00396748, -0.00782878, -0.00645805, -0.00338571,\n",
            "       -0.00683478, -0.00327492, -0.00672262, -0.00636292, -0.00403743,\n",
            "       -0.00839901, -0.00739377, -0.00589352, -0.00595199, -0.00404924,\n",
            "       -0.00581757, -0.0041369 , -0.00534613], dtype=float32)>, <tf.Tensor: shape=(128, 10), dtype=float32, numpy=\n",
            "array([[ 0.01920497,  0.05783387, -0.0979767 , ..., -0.1444712 ,\n",
            "         0.18752769, -0.15595494],\n",
            "       [ 0.1855257 , -0.16534883, -0.19107886, ..., -0.04171174,\n",
            "         0.13292825,  0.05250443],\n",
            "       [ 0.17774679,  0.1789255 , -0.07314532, ...,  0.04281954,\n",
            "         0.12669507,  0.04535551],\n",
            "       ...,\n",
            "       [-0.14799179,  0.10000856,  0.03800937, ..., -0.14066488,\n",
            "        -0.00318479, -0.11953481],\n",
            "       [-0.20608117, -0.08037669, -0.1288431 , ..., -0.09889741,\n",
            "        -0.00110024,  0.06943077],\n",
            "       [ 0.16364554, -0.19957103, -0.19758053, ..., -0.04074754,\n",
            "         0.00933902,  0.0485101 ]], dtype=float32)>, <tf.Tensor: shape=(10,), dtype=float32, numpy=\n",
            "array([-1.1187012 ,  0.4835708 ,  1.4047084 , -0.77491266, -0.6776794 ,\n",
            "        2.9679546 , -2.0483577 , -2.5190957 ,  2.2762895 , -0.08207208],\n",
            "      dtype=float32)>]\n"
          ]
        }
      ]
    },
    {
      "cell_type": "markdown",
      "metadata": {
        "id": "y3MclZYfOldN"
      },
      "source": [
        "再テストの実行"
      ]
    },
    {
      "cell_type": "code",
      "execution_count": 25,
      "metadata": {
        "id": "jAmhPk_tOldN",
        "colab": {
          "base_uri": "https://localhost:8080/"
        },
        "outputId": "af0710c2-7908-4624-9b71-51c9be939005"
      },
      "outputs": [
        {
          "output_type": "stream",
          "name": "stdout",
          "text": [
            "Epoch 1, Test Loss: 3.651007890701294, Test Accuracy: 8.920000076293945\n",
            "Epoch 2, Test Loss: 3.651007890701294, Test Accuracy: 8.920000076293945\n",
            "Epoch 3, Test Loss: 3.651007890701294, Test Accuracy: 8.920000076293945\n",
            "Epoch 4, Test Loss: 3.651007890701294, Test Accuracy: 8.920000076293945\n",
            "Epoch 5, Test Loss: 3.651007890701294, Test Accuracy: 8.920000076293945\n"
          ]
        }
      ],
      "source": [
        "EPOCHS = 5\n",
        "\n",
        "for epoch in range(EPOCHS):\n",
        "    test_loss.reset_states()\n",
        "    test_accuracy.reset_states()\n",
        "\n",
        "    for test_images, test_labels in test_ds:\n",
        "        test_step(test_images, test_labels)\n",
        "    \n",
        "    print(\n",
        "        f'Epoch {epoch + 1}, '\n",
        "        f'Test Loss: {test_loss.result()}, '\n",
        "        f'Test Accuracy: {test_accuracy.result() * 100}'\n",
        "    )"
      ]
    },
    {
      "cell_type": "code",
      "source": [],
      "metadata": {
        "id": "iQmyQyMYKM4P"
      },
      "execution_count": 25,
      "outputs": []
    }
  ],
  "metadata": {
    "colab": {
      "provenance": [],
      "include_colab_link": true
    },
    "gpuClass": "standard",
    "kernelspec": {
      "display_name": "Python 3.9.13 ('pythonenv')",
      "language": "python",
      "name": "python3"
    },
    "language_info": {
      "codemirror_mode": {
        "name": "ipython",
        "version": 3
      },
      "file_extension": ".py",
      "mimetype": "text/x-python",
      "name": "python",
      "nbconvert_exporter": "python",
      "pygments_lexer": "ipython3",
      "version": "3.9.13"
    },
    "vscode": {
      "interpreter": {
        "hash": "d1685d247089585e01bacc0e11595c4779ea690fa157e920ca16120e3c1da301"
      }
    },
    "accelerator": "GPU"
  },
  "nbformat": 4,
  "nbformat_minor": 0
}