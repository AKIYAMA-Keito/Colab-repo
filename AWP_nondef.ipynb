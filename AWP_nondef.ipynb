{
  "cells": [
    {
      "cell_type": "markdown",
      "metadata": {
        "id": "view-in-github",
        "colab_type": "text"
      },
      "source": [
        "<a href=\"https://colab.research.google.com/github/AKIYAMA-Keito/Colab-repo/blob/main/AWP_nondef.ipynb\" target=\"_parent\"><img src=\"https://colab.research.google.com/assets/colab-badge.svg\" alt=\"Open In Colab\"/></a>"
      ]
    },
    {
      "cell_type": "code",
      "execution_count": 1,
      "metadata": {
        "id": "d1Z8uIInOldG"
      },
      "outputs": [],
      "source": [
        "import tensorflow as tf\n",
        "from tensorflow.keras.layers import Dense, Flatten, Conv2D\n",
        "from tensorflow.keras import Model\n",
        "import numpy as np"
      ]
    },
    {
      "cell_type": "markdown",
      "metadata": {
        "id": "XKEv8KiMOldH"
      },
      "source": [
        "Step1 Tensorflowチュートリアル4から引用"
      ]
    },
    {
      "cell_type": "markdown",
      "source": [
        "version2\n"
      ],
      "metadata": {
        "id": "Yk9ofpRIRw2k"
      }
    },
    {
      "cell_type": "markdown",
      "metadata": {
        "id": "DVrpxk0rOldI"
      },
      "source": [
        "データセットを読み込んで正規化する．"
      ]
    },
    {
      "cell_type": "code",
      "execution_count": 2,
      "metadata": {
        "id": "QobaZNJyOldJ",
        "colab": {
          "base_uri": "https://localhost:8080/"
        },
        "outputId": "4cf60389-55c2-4d73-808d-d91e1ae64bf4"
      },
      "outputs": [
        {
          "output_type": "stream",
          "name": "stdout",
          "text": [
            "Downloading data from https://storage.googleapis.com/tensorflow/tf-keras-datasets/mnist.npz\n",
            "11490434/11490434 [==============================] - 0s 0us/step\n"
          ]
        }
      ],
      "source": [
        "mnist = tf.keras.datasets.mnist\n",
        "(x_train, y_train), (x_test, y_test) = mnist.load_data()\n",
        "random_index_train = np.array(range(len(x_train)))\n",
        "np.random.shuffle(random_index_train)\n",
        "x_train = x_train[random_index_train][:1000]\n",
        "y_train = y_train[random_index_train][:1000]\n",
        "x_train = x_train / 255.0\n",
        "x_test = x_test/255.0\n",
        "x_train = x_train[..., tf.newaxis].astype(\"float32\")\n",
        "x_test = x_test[..., tf.newaxis].astype(\"float32\")"
      ]
    },
    {
      "cell_type": "markdown",
      "metadata": {
        "id": "PNcHvWE9OldJ"
      },
      "source": [
        "データセットをシャッフルしてバッチ化する．"
      ]
    },
    {
      "cell_type": "code",
      "execution_count": 3,
      "metadata": {
        "id": "Wg2lQwV_OldJ"
      },
      "outputs": [],
      "source": [
        "train_ds = tf.data.Dataset.from_tensor_slices(\n",
        "    (x_train, y_train)\n",
        ").batch(1000)\n",
        "test_ds = tf.data.Dataset.from_tensor_slices(\n",
        "    (x_test, y_test)\n",
        ").batch(1)"
      ]
    },
    {
      "cell_type": "markdown",
      "metadata": {
        "id": "exQHK9sMOldK"
      },
      "source": [
        "CNNモデルを定義しインスタンスを取り出す．"
      ]
    },
    {
      "cell_type": "code",
      "execution_count": 4,
      "metadata": {
        "id": "1-UIMbDyOldK"
      },
      "outputs": [],
      "source": [
        "class CNNModel(Model):\n",
        "    def __init__(self):\n",
        "        super(CNNModel, self).__init__()\n",
        "        self.conv1 = Conv2D(32, 3, activation = \"relu\")\n",
        "        self.flatten = Flatten()\n",
        "        self.d1 = Dense(128, activation = \"relu\")\n",
        "        self.d2 = Dense(10)\n",
        "    \n",
        "    def call(self, x):\n",
        "        x = self.conv1(x)\n",
        "        x = self.flatten(x)\n",
        "        x = self.d1(x)\n",
        "        x = self.d2(x)\n",
        "        return x\n",
        "\n",
        "model = CNNModel()"
      ]
    },
    {
      "cell_type": "markdown",
      "metadata": {
        "id": "R46fxEjOOldK"
      },
      "source": [
        "損失関数とoptmizerを選択する．"
      ]
    },
    {
      "cell_type": "code",
      "execution_count": 5,
      "metadata": {
        "id": "9pzC_gytOldL"
      },
      "outputs": [],
      "source": [
        "loss_object = tf.keras.losses.SparseCategoricalCrossentropy(from_logits = True)\n",
        "optimizer = tf.keras.optimizers.Adam()"
      ]
    },
    {
      "cell_type": "markdown",
      "metadata": {
        "id": "ph_DSqV9OldL"
      },
      "source": [
        "損失関数とoptimizerの尺度評価のための関数を導入する．"
      ]
    },
    {
      "cell_type": "code",
      "execution_count": 6,
      "metadata": {
        "id": "MipedjyLOldL"
      },
      "outputs": [],
      "source": [
        "train_loss = tf.keras.metrics.Mean(name='train_loss')\n",
        "train_accuracy = tf.keras.metrics.SparseCategoricalAccuracy(name='train_accuracy')\n",
        "test_loss = tf.keras.metrics.Mean(name='test_loss')\n",
        "test_accuracy = tf.keras.metrics.SparseCategoricalAccuracy(name='test_accuracy')"
      ]
    },
    {
      "cell_type": "markdown",
      "metadata": {
        "id": "HD6sZQRdOldL"
      },
      "source": [
        "モデルを訓練するための関数train_stepを定義する．\n",
        "予測値と正解ラベルの間の損失関数の勾配を最適化する．"
      ]
    },
    {
      "cell_type": "code",
      "execution_count": 7,
      "metadata": {
        "id": "KCmbB-cnOldL"
      },
      "outputs": [],
      "source": [
        "@tf.function\n",
        "def train_step(images, labels):\n",
        "    with tf.GradientTape() as tape:\n",
        "        predictions = model(images, training = True)\n",
        "        loss = loss_object(labels, predictions)\n",
        "    gradients = tape.gradient(loss, model.trainable_variables)\n",
        "    optimizer.apply_gradients(zip(gradients, model.trainable_variables))\n",
        "    \n",
        "    train_loss(loss)\n",
        "    train_accuracy(labels, predictions)"
      ]
    },
    {
      "cell_type": "markdown",
      "metadata": {
        "id": "GdL3GJY2OldM"
      },
      "source": [
        "モデルをテストするための関数test_stepを定義する．"
      ]
    },
    {
      "cell_type": "code",
      "execution_count": 8,
      "metadata": {
        "id": "IsRpIQFEOldM"
      },
      "outputs": [],
      "source": [
        "@tf.function\n",
        "def test_step(images, labels):\n",
        "    predictions = model(images, training = False)\n",
        "    t_loss = loss_object(labels, predictions)\n",
        "    \n",
        "    test_loss(t_loss)\n",
        "    test_accuracy(labels, predictions)"
      ]
    },
    {
      "cell_type": "markdown",
      "metadata": {
        "id": "3D-PUsW-OldM"
      },
      "source": [
        "学習を実行してテストし，結果を出力する．"
      ]
    },
    {
      "cell_type": "code",
      "execution_count": 9,
      "metadata": {
        "colab": {
          "base_uri": "https://localhost:8080/"
        },
        "id": "tJEwX2bUOldM",
        "outputId": "ba4256d1-f730-4e00-e9a3-17093f69d23e"
      },
      "outputs": [
        {
          "output_type": "stream",
          "name": "stdout",
          "text": [
            "Epoch 1, Loss: 2.296882152557373, Accuracy: 12.199999809265137, Test Loss: 1.9357314109802246, Test Accuracy: 46.650001525878906\n",
            "Epoch 2, Loss: 1.9050135612487793, Accuracy: 51.099998474121094, Test Loss: 1.5488656759262085, Test Accuracy: 69.44000244140625\n",
            "Epoch 3, Loss: 1.4882415533065796, Accuracy: 75.70000457763672, Test Loss: 1.2314039468765259, Test Accuracy: 75.97000122070312\n"
          ]
        }
      ],
      "source": [
        "EPOCHS = 3\n",
        "\n",
        "for epoch in range(EPOCHS):\n",
        "    train_loss.reset_states()\n",
        "    train_accuracy.reset_states()\n",
        "    test_loss.reset_states()\n",
        "    test_accuracy.reset_states()\n",
        "    \n",
        "    for train_images, train_labels in train_ds:\n",
        "        train_step(train_images, train_labels)\n",
        "    \n",
        "    for test_images, test_labels in test_ds:\n",
        "        test_step(test_images, test_labels)\n",
        "    \n",
        "    print(\n",
        "        f'Epoch {epoch + 1}, '\n",
        "        f'Loss: {train_loss.result()}, '\n",
        "        f'Accuracy: {train_accuracy.result() * 100}, '\n",
        "        f'Test Loss: {test_loss.result()}, '\n",
        "        f'Test Accuracy: {test_accuracy.result() * 100}'\n",
        "    )"
      ]
    },
    {
      "cell_type": "markdown",
      "metadata": {
        "id": "xTaFZYwFOldM"
      },
      "source": [
        "AWPのアルゴリズムを記述する．\n",
        "まず，学習済みのmodelから重みを取り出してvを加えて再設定する．"
      ]
    },
    {
      "cell_type": "code",
      "execution_count": 10,
      "metadata": {
        "id": "RwzvYTxcOldM"
      },
      "outputs": [],
      "source": [
        "# weights = model.get_weights()\n",
        "# ordinary_weights = weights\n",
        "# new_weights = []\n",
        "# v_array = []\n",
        "# for w in weights:\n",
        "#   v = 0.02 * np.random.rand() - 0.01\n",
        "#   new_weights.append(w + v)\n",
        "#   v_array.append(tf.fill(w.shape, v))\n",
        "# model.set_weights(new_weights)"
      ]
    },
    {
      "cell_type": "code",
      "source": [
        "weights = model.get_weights()\n",
        "ordinary_weights = weights\n",
        "v_array = []\n",
        "for w in weights:\n",
        "  v = 0.02 * np.random.rand() - 0.01\n",
        "  v_array.append(tf.fill(w.shape, v))"
      ],
      "metadata": {
        "id": "XRSISCKw7GT9"
      },
      "execution_count": 11,
      "outputs": []
    },
    {
      "cell_type": "markdown",
      "metadata": {
        "id": "oPKvxUYsOldM"
      },
      "source": [
        "Step2"
      ]
    },
    {
      "cell_type": "code",
      "source": [
        "# @tf.function\n",
        "def adversary(dataset, additive_weights, eps1 = 1, eta1 = 0.1):\n",
        "    weights = model.get_weights()\n",
        "    new_weights = []\n",
        "    for w, v in zip(weights, additive_weights):\n",
        "      new_weights.append(w + v)\n",
        "    model.set_weights(new_weights)\n",
        "\n",
        "    adversarial_image_list = []\n",
        "    # eps1 = 1\n",
        "    # eta1 = 0.1\n",
        "    for (images, labels) in dataset:\n",
        "      for (image, label) in zip(images, labels):\n",
        "        image = tf.Variable([image])\n",
        "\n",
        "        initial_noise = 2 * eps1 * np.random.rand() - eps1\n",
        "        image_dashed = tf.add(image, initial_noise)\n",
        "\n",
        "        # この書き方でも，initial_noiseが一様に入ってしまっている．\n",
        "        # tf.Variableで1次元追加しているから，より内側のループを作らないといけないよ\n",
        "        # image_dashed_list = []\n",
        "        # for image_0 in image:\n",
        "        #   for image_h in image_0:\n",
        "        #     for image_v in image_h:\n",
        "        #       for image_pixel in image_v:\n",
        "        #         initial_noise = 2 * eps1 * np.random.rand() - eps1\n",
        "        #         image_pixel_dashed = tf.add(image_pixel, initial_noise)\n",
        "        # image_dashed_list.append(image_pixel_dashed)\n",
        "        # # image_dashed = np.array(image_dashed_list)\n",
        "        # image_dashed = tf.convert_to_tensor(image_dashed_list)\n",
        "        # print(image_dashed.numpy())\n",
        "\n",
        "        for j in range(5):\n",
        "          with tf.GradientTape() as tape:\n",
        "            tape.watch(image_dashed)\n",
        "            prediction = model(image_dashed, training = True)\n",
        "            loss = loss_object(label, prediction)\n",
        "          gradients = tape.gradient(loss, image_dashed)\n",
        "          image_med = tf.add(image_dashed, tf.multiply(eta1, gradients))\n",
        "          difference = tf.subtract(image_med, image)\n",
        "          if tf.norm(difference) <= eps1:\n",
        "            image_dashed = image_med \n",
        "          else:\n",
        "            image_dashed = difference\n",
        "            image_dashed = tf.multiply(image_dashed, eps1)\n",
        "            image_dashed = tf.divide(image_dashed, tf.norm(difference))\n",
        "            image_dashed = tf.add(image_dashed, image)\n",
        "        adversarial_image_list.append(image_dashed[0])\n",
        "        adversarial_image = np.array(adversarial_image_list)\n",
        "\n",
        "    return adversarial_image\n",
        "\n",
        "    # def calculate_loss(adversarial_dataset, batch_size = 100):\n",
        "    #   # batch_size = 100\n",
        "    #   loss_sum = 0.0\n",
        "    #   for (images, labels) in adversarial_ds:\n",
        "    #     predictions = model(images, training = True)\n",
        "    #     loss = loss_object(labels, predictions)\n",
        "    #     loss_sum_batch = loss * batch_size\n",
        "    #     loss_sum = tf.add(loss_sum_batch, loss_sum)\n",
        "    #   average_loss = tf.divide(loss_sum, 1000)\n",
        "    # return average_loss"
      ],
      "metadata": {
        "id": "V3j-1XQM1lMS"
      },
      "execution_count": 12,
      "outputs": []
    },
    {
      "cell_type": "code",
      "source": [
        "# # def adversary(dataset, additive_weights, eps1 = 1, eta1 = 0.1):\n",
        "# weights = model.get_weights()\n",
        "# new_weights = []\n",
        "# for w, v in zip(weights, v_array):\n",
        "#   new_weights.append(w + v)\n",
        "# model.set_weights(new_weights)\n",
        "\n",
        "# adversarial_image_list = []\n",
        "# eps1 = 1\n",
        "# eta1 = 0.1\n",
        "# for (images, labels) in train_ds:\n",
        "#   for (image, label) in zip(images, labels):\n",
        "#     image = tf.Variable([image])\n",
        "\n",
        "#     initial_noise = 2 * eps1 * np.random.rand() - eps1\n",
        "#     image_dashed = tf.add(image, initial_noise)\n",
        "#     # print(image)\n",
        "#     # print(image_dashed)\n",
        "\n",
        "#     # この書き方でも，initial_noiseが一様に入ってしまっている．\n",
        "#     # tf.Variableで1次元追加しているから，より内側のループを作らないといけないよ\n",
        "#     # image_dashed_list = []\n",
        "#     # for image_0 in image:\n",
        "#     #   for image_h in image_0:\n",
        "#     #     for image_v in image_h:\n",
        "#     #       for image_pixel in image_v:\n",
        "#     #         initial_noise = 2 * eps1 * np.random.rand() - eps1\n",
        "#     #         image_pixel_dashed = tf.add(image_pixel, initial_noise)\n",
        "#     # image_dashed_list.append(image_pixel_dashed)\n",
        "#     # # image_dashed = np.array(image_dashed_list)\n",
        "#     # image_dashed = tf.convert_to_tensor(image_dashed_list)\n",
        "#     # print(image_dashed.numpy())\n",
        "\n",
        "#     for j in range(1):\n",
        "#       with tf.GradientTape() as tape:\n",
        "#         tape.watch(image_dashed)\n",
        "#         prediction = model(image_dashed, training = False)\n",
        "#         # print(prediction)\n",
        "#         loss = loss_object(label, prediction)\n",
        "#       gradients = tape.gradient(loss, image_dashed)\n",
        "#       image_med = tf.add(image_dashed, tf.multiply(eta1, gradients))\n",
        "#       difference = tf.subtract(image_med, image)\n",
        "#       if tf.norm(difference) <= eps1:\n",
        "#         image_dashed = image_med \n",
        "#       else:\n",
        "#         image_dashed = difference\n",
        "#         image_dashed = tf.multiply(image_dashed, eps1)\n",
        "#         image_dashed = tf.divide(image_dashed, tf.norm(difference))\n",
        "#         image_dashed = tf.add(image_dashed, image)\n",
        "#     adversarial_image_list.append(image_dashed[0])\n",
        "#     adversarial_image = np.array(adversarial_image_list)\n",
        "\n",
        "# print(adversarial_image[0] - x_train[0])\n",
        "\n",
        "# # print(adversarial_image)"
      ],
      "metadata": {
        "id": "2HGcWwIkljvE"
      },
      "execution_count": 13,
      "outputs": []
    },
    {
      "cell_type": "code",
      "source": [
        "x_adversarial = adversary(train_ds, v_array)"
      ],
      "metadata": {
        "id": "LzKpbHhf5dup"
      },
      "execution_count": 14,
      "outputs": []
    },
    {
      "cell_type": "code",
      "source": [
        "from PIL import Image\n",
        "import matplotlib.pyplot as plt"
      ],
      "metadata": {
        "id": "Mpzb3j_c8kKF"
      },
      "execution_count": 15,
      "outputs": []
    },
    {
      "cell_type": "code",
      "source": [
        "# for i in range(10):\n",
        "plt.imshow(np.squeeze(x_adversarial[0] - x_train[0]))\n",
        "plt.show()\n",
        "print(y_train[0])"
      ],
      "metadata": {
        "colab": {
          "base_uri": "https://localhost:8080/",
          "height": 282
        },
        "id": "aMZJZZYgA04d",
        "outputId": "7be2f5c9-601b-4dcc-bd81-1c4882ee01f6"
      },
      "execution_count": 16,
      "outputs": [
        {
          "output_type": "display_data",
          "data": {
            "text/plain": [
              "<Figure size 432x288 with 1 Axes>"
            ],
            "image/png": "[encoded data removed]"
          },
          "metadata": {
            "needs_background": "light"
          }
        },
        {
          "output_type": "stream",
          "name": "stdout",
          "text": [
            "8\n"
          ]
        }
      ]
    },
    {
      "cell_type": "code",
      "source": [
        "plt.imshow(np.squeeze(x_adversarial[0]))\n",
        "plt.show()\n",
        "print(y_train[0])"
      ],
      "metadata": {
        "colab": {
          "base_uri": "https://localhost:8080/",
          "height": 282
        },
        "id": "6uaLXa-goe2o",
        "outputId": "b8fa5b91-2dec-41a7-8c81-aaa7547ba493"
      },
      "execution_count": 17,
      "outputs": [
        {
          "output_type": "display_data",
          "data": {
            "text/plain": [
              "<Figure size 432x288 with 1 Axes>"
            ],
            "image/png": "[encoded data removed]"
          },
          "metadata": {
            "needs_background": "light"
          }
        },
        {
          "output_type": "stream",
          "name": "stdout",
          "text": [
            "8\n"
          ]
        }
      ]
    },
    {
      "cell_type": "code",
      "source": [
        "# %matplotlib inline\n",
        "# for i in range(10):\n",
        "#   plt.imshow(np.squeeze(x_adversarial[i]))\n",
        "#   plt.show()\n",
        "#   print(y_train[i])"
      ],
      "metadata": {
        "id": "8C5mNp328y8q"
      },
      "execution_count": 18,
      "outputs": []
    },
    {
      "cell_type": "code",
      "source": [
        "adversarial_ds = tf.data.Dataset.from_tensor_slices(\n",
        "    (x_adversarial, y_train)\n",
        ").batch(100)"
      ],
      "metadata": {
        "id": "Cjf3frQs4Io4"
      },
      "execution_count": 19,
      "outputs": []
    },
    {
      "cell_type": "code",
      "source": [
        "def calculate_loss(dataset, batch_size = 100):\n",
        "  batch_size = 100\n",
        "  loss_sum = 0.0\n",
        "  for (images, labels) in adversarial_ds:\n",
        "    predictions = model(images, training = True)\n",
        "    loss = loss_object(labels, predictions)\n",
        "    loss_sum_batch = loss * batch_size\n",
        "    loss_sum = tf.add(loss_sum_batch, loss_sum)\n",
        "  average_loss = tf.divide(loss_sum, 1000)\n",
        "  return average_loss"
      ],
      "metadata": {
        "id": "ozxGyYUn3KGZ"
      },
      "execution_count": 20,
      "outputs": []
    },
    {
      "cell_type": "code",
      "execution_count": 21,
      "metadata": {
        "id": "q_McCc8IOldM"
      },
      "outputs": [],
      "source": [
        "# x_adversarial_list = []\n",
        "# eps1 = 1\n",
        "# eta1 = 0.1\n",
        "# for i, (images, labels) in enumerate(train_ds):\n",
        "#   for (image, label) in zip(images, labels):\n",
        "#     image = tf.Variable([image])\n",
        "\n",
        "#     initial_noise = 2 * eps1 * np.random.rand() - eps1\n",
        "#     image_dashed = tf.add(image, initial_noise)\n",
        "\n",
        "#     # この書き方でも，initial_noiseが一様に入ってしまっている．\n",
        "#     # tf.Variableで1次元追加しているから，より内側のループを作らないといけないよ\n",
        "#     # image_dashed_list = []\n",
        "#     # for image_0 in image:\n",
        "#     #   for image_h in image_0:\n",
        "#     #     for image_v in image_h:\n",
        "#     #       for image_pixel in image_v:\n",
        "#     #         initial_noise = 2 * eps1 * np.random.rand() - eps1\n",
        "#     #         image_pixel_dashed = tf.add(image_pixel, initial_noise)\n",
        "#     # image_dashed_list.append(image_pixel_dashed)\n",
        "#     # # image_dashed = np.array(image_dashed_list)\n",
        "#     # image_dashed = tf.convert_to_tensor(image_dashed_list)\n",
        "#     # print(image_dashed.numpy())\n",
        "\n",
        "#     for j in range(5):\n",
        "#       with tf.GradientTape() as tape:\n",
        "#         tape.watch(image_dashed)\n",
        "#         prediction = model(image_dashed, training = True)\n",
        "#         loss = loss_object(label, prediction)\n",
        "#       gradients = tape.gradient(loss, image_dashed)\n",
        "#       image_med = tf.add(image_dashed, tf.multiply(eta1, gradients))\n",
        "#       difference = tf.subtract(image_med, image)\n",
        "#       if tf.norm(difference) <= eps1:\n",
        "#         image_dashed = image_med \n",
        "#       else:\n",
        "#         image_dashed = difference\n",
        "#         image_dashed = tf.multiply(image_dashed, eps1)\n",
        "#         image_dashed = tf.divide(image_dashed, tf.norm(difference))\n",
        "#         image_dashed = tf.add(image_dashed, image)\n",
        "#     x_adversarial_list.append(image_dashed[0])\n",
        "# x_adversarial = tf.convert_to_tensor(x_adversarial_list)"
      ]
    },
    {
      "cell_type": "markdown",
      "metadata": {
        "id": "Nxll_dsBOldN"
      },
      "source": [
        "Step3"
      ]
    },
    {
      "cell_type": "code",
      "source": [
        "# batch_size = 100\n",
        "# loss_sum = 0.0\n",
        "# for (images, labels) in adversarial_ds:\n",
        "#   predictions = model(images, training = True)\n",
        "#   loss = loss_object(labels, predictions)\n",
        "#   loss_sum_batch = loss * batch_size\n",
        "#   loss_sum = tf.add(loss_sum_batch, loss_sum)\n",
        "# average_loss = tf.divide(loss_sum, 1000)"
      ],
      "metadata": {
        "id": "rD2V2J5I5E1E"
      },
      "execution_count": 22,
      "outputs": []
    },
    {
      "cell_type": "code",
      "source": [
        "# def calculate_loss(dataset, batch_size = 100, additive_noise = v_array):\n",
        "#   # batch_size = 100\n",
        "#   loss_sum = 0.0\n",
        "#   for (images, labels) in dataset:\n",
        "#     predictions = model(images, training = True)\n",
        "#     loss = loss_object(labels, predictions)\n",
        "#     loss_sum_batch = loss * batch_size\n",
        "#     loss_sum = tf.add(loss_sum_batch, loss_sum)\n",
        "#   average_loss = tf.divide(loss_sum, 1000)\n",
        "#   return average_loss"
      ],
      "metadata": {
        "id": "H1C7Lp-g3JzR"
      },
      "execution_count": 23,
      "outputs": []
    },
    {
      "cell_type": "markdown",
      "metadata": {
        "id": "_rZ9Ze5LOldN"
      },
      "source": [
        "Step4"
      ]
    },
    {
      "cell_type": "code",
      "source": [
        "# o0 = ordinary_weights[0].flatten()\n",
        "# o1 = ordinary_weights[1].flatten()\n",
        "# o2 = ordinary_weights[2].flatten()\n",
        "# o3 = ordinary_weights[3].flatten()\n",
        "# o4 = ordinary_weights[4].flatten()\n",
        "# o5 = ordinary_weights[5].flatten()\n",
        "\n",
        "# ordinary_flatten_weights = [o0, o1, o2, o3, o4, o5]\n",
        "\n",
        "# w_med_list = []\n",
        "# for w_layer in ordinary_flatten_weights:\n",
        "#   w_med = tf.square(w_layer)\n",
        "#   w_med = tf.add_n(w_med)\n",
        "#   w_med_list.append(w_med)\n",
        "# w_fro = tf.add_n(w_med_list)\n",
        "# w_fro = tf.sqrt(w_fro)"
      ],
      "metadata": {
        "id": "yeew8RqfP59o"
      },
      "execution_count": 24,
      "outputs": []
    },
    {
      "cell_type": "code",
      "source": [
        "# w_fro = 0.0\n",
        "# for w in ordinary_weights:\n",
        "#   w_reshape = tf.reshape(w, [-1])\n",
        "#   w_med = tf.square(w_reshape)\n",
        "#   w_med = tf.add_n(w_med)\n",
        "#   w_fro = tf.add(w_fro, w_med)\n",
        "# w_fro = tf.sqrt(w_fro)"
      ],
      "metadata": {
        "id": "Di60HjVBEPN0"
      },
      "execution_count": 25,
      "outputs": []
    },
    {
      "cell_type": "code",
      "source": [
        "# from numpy import linalg as LA"
      ],
      "metadata": {
        "id": "KckrXgZWSwGR"
      },
      "execution_count": 26,
      "outputs": []
    },
    {
      "cell_type": "code",
      "source": [
        "w_flat = np.ndarray([])\n",
        "for w in ordinary_weights:\n",
        "  w_reshape = tf.reshape(w, [-1])\n",
        "  print(w_reshape.shape)\n",
        "  w_flat = np.hstack([w_flat, w_reshape])\n",
        "w_fro = np.linalg.norm(w_flat)\n",
        "print(w_fro)\n",
        "  # w_fro = tf.add(w_fro, np.linalg.norm(w_reshape, ord=2))\n",
        "# w_fro = tf.sqrt(w_fro)"
      ],
      "metadata": {
        "id": "BD3YeKDISlsZ",
        "colab": {
          "base_uri": "https://localhost:8080/"
        },
        "outputId": "4fc0530c-85bd-4389-f20e-ac3a36cdd5db"
      },
      "execution_count": 27,
      "outputs": [
        {
          "output_type": "stream",
          "name": "stdout",
          "text": [
            "(288,)\n",
            "(32,)\n",
            "(2768896,)\n",
            "(128,)\n",
            "(1280,)\n",
            "(10,)\n",
            "16.91876054870113\n"
          ]
        }
      ]
    },
    {
      "cell_type": "code",
      "source": [
        "from matplotlib.rcsetup import validate_axisbelow\n",
        "eps2 = 1\n",
        "eta2 = 0.1\n",
        "batch_size = 100\n",
        "\n",
        "\n",
        "v_updated = v_array\n",
        "# vの初期値を，step2で固定したvに設定する．\n",
        "\n",
        "for i in range(5):\n",
        "\n",
        "  # 重みをw + (現在の)vに設定する　　ここから\n",
        "  current_weights = []\n",
        "  for layer_weights, v in zip(ordinary_weights, v_updated):\n",
        "    current_layer_weight = tf.add(layer_weights, v)\n",
        "    current_weights.append(current_layer_weight)\n",
        "  model.set_weights(current_weights)\n",
        "  # 重みをw + (現在の)vに設定する　　ここまで\n",
        "\n",
        "  # gradientの計算　　ここから\n",
        "  with tf.GradientTape() as tape:\n",
        "    loss = calculate_loss(adversarial_ds)\n",
        "  gradients = tape.gradient(loss, model.trainable_variables)\n",
        "  # gradientの計算　　ここまで\n",
        "\n",
        "  # gradientのノルムの計算　　ここから\n",
        "  gradients_flat = np.ndarray([])\n",
        "  for g in gradients:\n",
        "    g_reshape = tf.reshape(g, [-1])\n",
        "    gradients_flat = np.hstack([gradients_flat, g_reshape])\n",
        "  gradients_norm = np.linalg.norm(gradients_flat)\n",
        "  # gradientのノルムの計算　　ここまで\n",
        "\n",
        "  # 勾配降下の実行　　ここから\n",
        "  v_difference = []\n",
        "  for g, v, w in zip(gradients, v_updated, ordinary_weights):\n",
        "    g = tf.divide(g, gradients_norm)\n",
        "    g = tf.multiply(g, w_fro)\n",
        "    g = tf.multiply(eta2, g)\n",
        "    v_med = tf.add(v, g)\n",
        "  # 勾配降下の実行　　ここまで\n",
        "\n",
        "  # (現在の)vと(元の重み)wの差分と，　そのノルムを計算　　ここから\n",
        "    v_difference.append(tf.subtract(v_med, w))\n",
        "  v_difference_flat = np.ndarray([])\n",
        "  for v_flat in v_difference:\n",
        "    v_flat_reshape = tf.reshape(v_flat, [-1])\n",
        "    # print(g_reshape.shape)\n",
        "    v_difference_flat = np.hstack([v_difference_flat, v_flat_reshape])\n",
        "  v_difference_norm = np.linalg.norm(v_difference_flat)\n",
        "  # (現在の)vと(元の重み)wの差分と，　そのノルムを計算　　ここまで\n",
        "\n",
        "  # 射影の実行　　ここから\n",
        "  if v_difference_norm <= eps2:\n",
        "    v_hat = v_med \n",
        "  else:\n",
        "    v_hat = v_difference\n",
        "    for v_hat_med, w in zip(v_hat, ordinary_weights):\n",
        "      v_hat_med = tf.multiply(v_hat_med, eps2)\n",
        "      v_hat_med = tf.divide(v_hat_med, v_difference_norm)\n",
        "      v_hat_med = tf.add(w, v_hat_med)\n",
        "  v_updated = v_hat\n",
        "  # 射影の実行　　ここまで\n",
        "\n",
        "  # for (images, labels) in adversarial_ds:\n",
        "  #   for (image, label) in zip(images, labels):\n",
        "  #     with tf.GradientTape() as tape:\n",
        "  #       prediction = model(image, training = False)\n",
        "  #       loss = loss_object(label, prediction)"
      ],
      "metadata": {
        "id": "dhQbeCasjVRp"
      },
      "execution_count": 32,
      "outputs": []
    },
    {
      "cell_type": "code",
      "execution_count": 33,
      "metadata": {
        "id": "LJ08Zz7eOldN"
      },
      "outputs": [],
      "source": [
        "# additive_weights = v_array\n",
        "\n",
        "# for (images, labels) in adversarial_ds:\n",
        "#   for (image, label) in zip(images, labels):\n",
        "#     with tf.GradientTape() as tape:\n",
        "#       prediction = model(image, training = False)\n",
        "#       loss = loss_object(label, prediction)\n",
        "\n",
        "# for j in range(5):\n",
        "#   # norm = tf.linalg.norm(gradients)\n",
        "#   # print(len(gradients))\n",
        "#   # gradients_withrate = []\n",
        "#   for v, gradient in zip(v_array, gradients_forallweights):\n",
        "#     norm = tf.linalg.norm(gradient)\n",
        "#     # normalized_gradient = tf.divide(gradient, norm + 1e-12)\n",
        "#     # gradient_withrate = tf.multiply(normalized_gradient, w_fro)\n",
        "#     # gradient_withrate = tf.multiply(eta2, gradient_withrate)\n",
        "#     v_med = tf.add(v, gradient)\n",
        "#     x = v_med - v\n",
        "#     if tf.norm(x) <= eps2:\n",
        "#       v_hat = v_med \n",
        "#     else:\n",
        "#       v_hat = x\n",
        "#       v_hat = tf.multiply(v_hat, eps2)\n",
        "#       v_hat = tf.divide(v_hat, tf.norm(x))\n",
        "#       v_hat = tf.add(v, v_hat)\n",
        "#     new_v.append(v_hat)\n",
        "  \n",
        "# print(new_v)\n",
        "\n",
        "# for i, (images, labels) in enumerate(adversarial_ds):\n",
        "#   loss_sum = 0.0\n",
        "#   gradients_forallweights = np.zeros(6)\n",
        "#   for (image, label) in zip(images, labels):\n",
        "#     image = tf.Variable([image])\n",
        "#     print(f'i={i}')\n",
        "#     with tf.GradientTape() as tape:\n",
        "#       # tape.watch(model.trainable_variables)\n",
        "#       # loss = calculate_loss(adversarial_ds)\n",
        "#       # batch_size = 100\n",
        "#       prediction = model(image, training = False)\n",
        "#       loss = loss_object(label, prediction)\n",
        "#     image_gradients = tape.gradient(loss, model.trainable_variables)\n",
        "#     image_gradients = np.array(image_gradients)\n",
        "#     gradients_forallweights = image_gradients + gradients_forallweights\n",
        "  \n",
        "#   # print(gradients_forallweights)\n",
        "  \n",
        "#   norm = tf.constant(0.0)\n",
        "#   for layer in gradients_forallweights:\n",
        "#     layer_flat = tf.reshape(layer, [-1])\n",
        "#     norm = tf.add(norm, tf.linalg.norm(layer_flat))\n",
        "  \n",
        "#   # print(norm)\n",
        "\n",
        "#   # gradients_forallweights = tf.convert_to_tensor(gradients_forallweights)\n",
        "#   # norm = tf.linalg.norm(gradients_forallweights)\n",
        "#   # normalized_gradients = \n",
        "#   # print(gradients_forallweights)\n",
        "#   for gradients_layer in gradients_forallweights:\n",
        "#     gradients_layer = gradients_layer / (norm + 1e-12)\n",
        "#     # print(gradients_layer)\n",
        "#     gradients_layer = tf.multiply(gradients_layer, w_fro)\n",
        "#     gradients_layer = tf.multiply(eta2, gradients_layer)\n",
        "#   # print(gradients_forallweights)\n",
        "\n",
        "# for j in range(5):\n",
        "#   # norm = tf.linalg.norm(gradients)\n",
        "#   # print(len(gradients))\n",
        "#   # gradients_withrate = []\n",
        "#   new_v = []\n",
        "#   for v, gradient in zip(v_array, gradients_forallweights):\n",
        "#     norm = tf.linalg.norm(gradient)\n",
        "#     # normalized_gradient = tf.divide(gradient, norm + 1e-12)\n",
        "#     # gradient_withrate = tf.multiply(normalized_gradient, w_fro)\n",
        "#     # gradient_withrate = tf.multiply(eta2, gradient_withrate)\n",
        "#     v_med = tf.add(v, gradient)\n",
        "#     x = v_med - v\n",
        "#     if tf.norm(x) <= eps2:\n",
        "#       v_hat = v_med \n",
        "#     else:\n",
        "#       v_hat = x\n",
        "#       v_hat = tf.multiply(v_hat, eps2)\n",
        "#       v_hat = tf.divide(v_hat, tf.norm(x))\n",
        "#       v_hat = tf.add(v, v_hat)\n",
        "#     new_v.append(v_hat)\n",
        "  \n",
        "# print(new_v)"
      ]
    },
    {
      "cell_type": "markdown",
      "metadata": {
        "id": "44ZjbQBHOldN"
      },
      "source": [
        "Step5"
      ]
    },
    {
      "cell_type": "code",
      "source": [
        "eta3 = 1\n",
        "weights = model.get_weights()\n",
        "new_weights = []\n",
        "for weight, v in zip(ordinary_weights, new_v):\n",
        "  new_weight = tf.add(weight, v)\n",
        "  new_weights.append(new_weight)\n",
        "model.set_weights(new_weights)\n",
        "\n",
        "for i, (images, labels) in enumerate(adversarial_ds):\n",
        "  loss_sum = 0.0\n",
        "  gradients_forallweights = np.zeros(6)\n",
        "  for (image, label) in zip(images, labels):\n",
        "    image = tf.Variable([image])\n",
        "    print(f'i={i}')\n",
        "    with tf.GradientTape() as tape:\n",
        "      # tape.watch(model.trainable_variables)\n",
        "      # loss = calculate_loss(adversarial_ds)\n",
        "      # batch_size = 100\n",
        "      prediction = model(image, training = False)\n",
        "      loss = loss_object(label, prediction)\n",
        "      print(loss)\n",
        "    image_gradients = tape.gradient(loss, model.trainable_variables)\n",
        "    # print(image_gradients)\n",
        "    image_gradients = np.array(image_gradients)\n",
        "    gradients_forallweights = image_gradients + gradients_forallweights\n",
        "  \n",
        "  # print(gradients_forallweights)\n",
        "  \n",
        "  norm = tf.constant(0.0)\n",
        "  for layer in gradients_forallweights:\n",
        "    layer_flat = tf.reshape(layer, [-1])\n",
        "    norm = tf.add(norm, tf.linalg.norm(layer_flat))\n",
        "  \n",
        "  # print(norm)\n",
        "\n",
        "  # gradients_forallweights = tf.convert_to_tensor(gradients_forallweights)\n",
        "  # norm = tf.linalg.norm(gradients_forallweights)\n",
        "  # normalized_gradients = \n",
        "  # print(gradients_forallweights)\n",
        "  for gradients_layer in gradients_forallweights:\n",
        "    # gradients_layer = gradients_layer / (norm + 1e-12)\n",
        "    # # print(gradients_layer)\n",
        "    # gradients_layer = tf.multiply(gradients_layer, w_fro)\n",
        "    gradients_layer = tf.multiply(eta3, gradients_layer)\n",
        "  # print(gradients_forallweights)\n",
        "\n",
        "weights_updated = []\n",
        "for weight, gradient in zip(ordinary_weights, gradients_forallweights):\n",
        "  gradient_med = tf.multiply(eta3, gradient)\n",
        "  weight_updated = tf.subtract(weight, gradient_med)\n",
        "  weights_updated.append(weight_updated)\n",
        "model.set_weights(weights_updated)"
      ],
      "metadata": {
        "id": "nqve4Wgycwfs",
        "colab": {
          "base_uri": "https://localhost:8080/",
          "height": 240
        },
        "outputId": "052abdb6-c75f-48f2-8f4b-1f2c1518fda3"
      },
      "execution_count": 34,
      "outputs": [
        {
          "output_type": "error",
          "ename": "NameError",
          "evalue": "ignored",
          "traceback": [
            "\u001b[0;31m---------------------------------------------------------------------------\u001b[0m",
            "\u001b[0;31mNameError\u001b[0m                                 Traceback (most recent call last)",
            "\u001b[0;32m<ipython-input-34-bab2de399952>\u001b[0m in \u001b[0;36m<module>\u001b[0;34m\u001b[0m\n\u001b[1;32m      2\u001b[0m \u001b[0mweights\u001b[0m \u001b[0;34m=\u001b[0m \u001b[0mmodel\u001b[0m\u001b[0;34m.\u001b[0m\u001b[0mget_weights\u001b[0m\u001b[0;34m(\u001b[0m\u001b[0;34m)\u001b[0m\u001b[0;34m\u001b[0m\u001b[0;34m\u001b[0m\u001b[0m\n\u001b[1;32m      3\u001b[0m \u001b[0mnew_weights\u001b[0m \u001b[0;34m=\u001b[0m \u001b[0;34m[\u001b[0m\u001b[0;34m]\u001b[0m\u001b[0;34m\u001b[0m\u001b[0;34m\u001b[0m\u001b[0m\n\u001b[0;32m----> 4\u001b[0;31m \u001b[0;32mfor\u001b[0m \u001b[0mweight\u001b[0m\u001b[0;34m,\u001b[0m \u001b[0mv\u001b[0m \u001b[0;32min\u001b[0m \u001b[0mzip\u001b[0m\u001b[0;34m(\u001b[0m\u001b[0mordinary_weights\u001b[0m\u001b[0;34m,\u001b[0m \u001b[0mnew_v\u001b[0m\u001b[0;34m)\u001b[0m\u001b[0;34m:\u001b[0m\u001b[0;34m\u001b[0m\u001b[0;34m\u001b[0m\u001b[0m\n\u001b[0m\u001b[1;32m      5\u001b[0m   \u001b[0mnew_weight\u001b[0m \u001b[0;34m=\u001b[0m \u001b[0mtf\u001b[0m\u001b[0;34m.\u001b[0m\u001b[0madd\u001b[0m\u001b[0;34m(\u001b[0m\u001b[0mweight\u001b[0m\u001b[0;34m,\u001b[0m \u001b[0mv\u001b[0m\u001b[0;34m)\u001b[0m\u001b[0;34m\u001b[0m\u001b[0;34m\u001b[0m\u001b[0m\n\u001b[1;32m      6\u001b[0m   \u001b[0mnew_weights\u001b[0m\u001b[0;34m.\u001b[0m\u001b[0mappend\u001b[0m\u001b[0;34m(\u001b[0m\u001b[0mnew_weight\u001b[0m\u001b[0;34m)\u001b[0m\u001b[0;34m\u001b[0m\u001b[0;34m\u001b[0m\u001b[0m\n",
            "\u001b[0;31mNameError\u001b[0m: name 'new_v' is not defined"
          ]
        }
      ]
    },
    {
      "cell_type": "code",
      "execution_count": null,
      "metadata": {
        "id": "zDaTfdWqOldN"
      },
      "outputs": [],
      "source": [
        "# eta3 = 0.1\n",
        "# weights = model.get_weights()\n",
        "# new_weights = []\n",
        "# for weight, v in zip(ordinary_weights, new_v):\n",
        "#   new_weight = tf.add(weight, v)\n",
        "#   new_weights.append(new_weight)\n",
        "# model.set_weights(new_weights)\n",
        "\n",
        "# # adversarial_ds = tf.data.Dataset.from_tensor_slices(\n",
        "# #   (x_adversarial, y_train)\n",
        "# # ).batch(100)\n",
        "\n",
        "# average_gradients = 0.0\n",
        "# for i, (adversarial_images, labels) in enumerate(adversarial_ds):\n",
        "#   for (adversarial_image, label) in zip(images, labels):\n",
        "#     adversarial_image = tf.Variable([adversarial_image])\n",
        "#     print(f'i={i}')\n",
        "#     # print(image.shape, label)\n",
        "#     for j in range(1):\n",
        "#       with tf.GradientTape() as tape:\n",
        "#         prediction = model(adversarial_image, training = True)\n",
        "#         loss = loss_object(label, prediction)\n",
        "#       gradients = tape.gradient(loss, model.trainable_variables)\n",
        "#       average_gradients = tf.add(average_gradients, loss)\n",
        "#     average_gradients = tf.divide(average_gradients, 1000)\n",
        "\n",
        "#       # norm = tf.linalg.norm(gradients)\n",
        "#       # print(len(gradients))\n",
        "#       # gradients_withrate = []\n",
        "#       # for (images, labels) in adversarial_ds:\n",
        "#       #   with tf.GradientTape() as tape:\n",
        "#       #     # predictions = model(adversarial_images, training = True)\n",
        "#       #     # loss = loss_object(y_train, predictions)\n",
        "#       #     predictions = model(images, training = True)\n",
        "#       #     loss = loss_object(labels, predictions)\n",
        "#       #     average_loss = tf.add(average_loss, loss)\n",
        "#       #     average_loss = tf.divide(average_loss, 100)\n",
        "\n",
        "\n",
        "# # ordinary_weights = np.ndarray(ordinary_weights)\n",
        "# print(type(ordinary_weights))\n",
        "# print(type(average_gradients))\n",
        "# weights_updated = []\n",
        "# for weight, gradient in zip(ordinary_weights, average_gradients):\n",
        "#   gradient_med = tf.multiply(eta3, gradient)\n",
        "#   weight_updated = tf.subtract(weight, gradient_med)\n",
        "#   weights_updated.append(weight_updated)\n",
        "# model.set_weights(weights_updated)"
      ]
    },
    {
      "cell_type": "markdown",
      "metadata": {
        "id": "y3MclZYfOldN"
      },
      "source": [
        "再テストの実行"
      ]
    },
    {
      "cell_type": "code",
      "execution_count": null,
      "metadata": {
        "id": "jAmhPk_tOldN"
      },
      "outputs": [],
      "source": [
        "EPOCHS = 5\n",
        "\n",
        "for epoch in range(EPOCHS):\n",
        "    test_loss.reset_states()\n",
        "    test_accuracy.reset_states()\n",
        "\n",
        "    for test_images, test_labels in test_ds:\n",
        "        test_step(test_images, test_labels)\n",
        "    \n",
        "    print(\n",
        "        f'Epoch {epoch + 1}, '\n",
        "        f'Test Loss: {test_loss.result()}, '\n",
        "        f'Test Accuracy: {test_accuracy.result() * 100}'\n",
        "    )"
      ]
    }
  ],
  "metadata": {
    "colab": {
      "provenance": [],
      "include_colab_link": true
    },
    "gpuClass": "standard",
    "kernelspec": {
      "display_name": "Python 3.9.13 ('pythonenv')",
      "language": "python",
      "name": "python3"
    },
    "language_info": {
      "codemirror_mode": {
        "name": "ipython",
        "version": 3
      },
      "file_extension": ".py",
      "mimetype": "text/x-python",
      "name": "python",
      "nbconvert_exporter": "python",
      "pygments_lexer": "ipython3",
      "version": "3.9.13"
    },
    "vscode": {
      "interpreter": {
        "hash": "d1685d247089585e01bacc0e11595c4779ea690fa157e920ca16120e3c1da301"
      }
    },
    "accelerator": "GPU"
  },
  "nbformat": 4,
  "nbformat_minor": 0
}