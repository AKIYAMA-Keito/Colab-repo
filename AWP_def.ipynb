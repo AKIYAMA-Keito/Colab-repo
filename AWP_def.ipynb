{
  "cells": [
    {
      "cell_type": "markdown",
      "metadata": {
        "id": "view-in-github",
        "colab_type": "text"
      },
      "source": [
        "<a href=\"https://colab.research.google.com/github/AKIYAMA-Keito/Colab-repo/blob/main/AWP_def.ipynb\" target=\"_parent\"><img src=\"https://colab.research.google.com/assets/colab-badge.svg\" alt=\"Open In Colab\"/></a>"
      ]
    },
    {
      "cell_type": "code",
      "execution_count": 1,
      "metadata": {
        "id": "d1Z8uIInOldG"
      },
      "outputs": [],
      "source": [
        "import tensorflow as tf\n",
        "from tensorflow.keras.layers import Dense, Flatten, Conv2D\n",
        "from tensorflow.keras import Model\n",
        "import numpy as np"
      ]
    },
    {
      "cell_type": "markdown",
      "metadata": {
        "id": "XKEv8KiMOldH"
      },
      "source": [
        "Step1 Tensorflowチュートリアル4から引用"
      ]
    },
    {
      "cell_type": "markdown",
      "source": [
        "version2\n"
      ],
      "metadata": {
        "id": "Yk9ofpRIRw2k"
      }
    },
    {
      "cell_type": "markdown",
      "metadata": {
        "id": "DVrpxk0rOldI"
      },
      "source": [
        "データセットを読み込んで正規化する．"
      ]
    },
    {
      "cell_type": "code",
      "execution_count": 2,
      "metadata": {
        "id": "QobaZNJyOldJ"
      },
      "outputs": [],
      "source": [
        "mnist = tf.keras.datasets.mnist\n",
        "(x_train, y_train), (x_test, y_test) = mnist.load_data()\n",
        "random_index_train = np.array(range(len(x_train)))\n",
        "np.random.shuffle(random_index_train)\n",
        "x_train = x_train[random_index_train][:1000]\n",
        "y_train = y_train[random_index_train][:1000]\n",
        "x_train = x_train / 255.0\n",
        "x_test = x_test / 255.0\n",
        "x_train = x_train[..., tf.newaxis].astype(\"float32\")\n",
        "x_test = x_test[..., tf.newaxis].astype(\"float32\")"
      ]
    },
    {
      "cell_type": "markdown",
      "metadata": {
        "id": "PNcHvWE9OldJ"
      },
      "source": [
        "データセットをシャッフルしてバッチ化する．"
      ]
    },
    {
      "cell_type": "code",
      "execution_count": 3,
      "metadata": {
        "id": "Wg2lQwV_OldJ"
      },
      "outputs": [],
      "source": [
        "train_ds = tf.data.Dataset.from_tensor_slices(\n",
        "    (x_train, y_train)\n",
        ").batch(1000)\n",
        "test_ds = tf.data.Dataset.from_tensor_slices(\n",
        "    (x_test, y_test)\n",
        ").batch(1000)"
      ]
    },
    {
      "cell_type": "markdown",
      "metadata": {
        "id": "exQHK9sMOldK"
      },
      "source": [
        "CNNモデルを定義しインスタンスを取り出す．"
      ]
    },
    {
      "cell_type": "code",
      "execution_count": 4,
      "metadata": {
        "id": "1-UIMbDyOldK"
      },
      "outputs": [],
      "source": [
        "class CNNModel(Model):\n",
        "    def __init__(self):\n",
        "        super(CNNModel, self).__init__()\n",
        "        self.conv1 = Conv2D(32, 3, activation = \"relu\")\n",
        "        self.flatten = Flatten()\n",
        "        self.d1 = Dense(128, activation = \"relu\")\n",
        "        self.d2 = Dense(10)\n",
        "    \n",
        "    def call(self, x):\n",
        "        x = self.conv1(x)\n",
        "        x = self.flatten(x)\n",
        "        x = self.d1(x)\n",
        "        x = self.d2(x)\n",
        "        return x\n",
        "\n",
        "model = CNNModel()"
      ]
    },
    {
      "cell_type": "markdown",
      "metadata": {
        "id": "R46fxEjOOldK"
      },
      "source": [
        "損失関数とoptmizerを選択する．"
      ]
    },
    {
      "cell_type": "code",
      "execution_count": 5,
      "metadata": {
        "id": "9pzC_gytOldL"
      },
      "outputs": [],
      "source": [
        "loss_object = tf.keras.losses.SparseCategoricalCrossentropy(from_logits = True)\n",
        "optimizer = tf.keras.optimizers.Adam()"
      ]
    },
    {
      "cell_type": "markdown",
      "metadata": {
        "id": "ph_DSqV9OldL"
      },
      "source": [
        "損失関数とoptimizerの尺度評価のための関数を導入する．"
      ]
    },
    {
      "cell_type": "code",
      "execution_count": 6,
      "metadata": {
        "id": "MipedjyLOldL"
      },
      "outputs": [],
      "source": [
        "train_loss = tf.keras.metrics.Mean(name='train_loss')\n",
        "train_accuracy = tf.keras.metrics.SparseCategoricalAccuracy(name='train_accuracy')\n",
        "test_loss = tf.keras.metrics.Mean(name='test_loss')\n",
        "test_accuracy = tf.keras.metrics.SparseCategoricalAccuracy(name='test_accuracy')"
      ]
    },
    {
      "cell_type": "markdown",
      "metadata": {
        "id": "HD6sZQRdOldL"
      },
      "source": [
        "モデルを訓練するための関数train_stepを定義する．\n",
        "予測値と正解ラベルの間の損失関数の勾配を最適化する．"
      ]
    },
    {
      "cell_type": "code",
      "execution_count": 7,
      "metadata": {
        "id": "KCmbB-cnOldL"
      },
      "outputs": [],
      "source": [
        "@tf.function\n",
        "def train_step(images, labels):\n",
        "    with tf.GradientTape() as tape:\n",
        "        predictions = model(images, training = True)\n",
        "        loss = loss_object(labels, predictions)\n",
        "    gradients = tape.gradient(loss, model.trainable_variables)\n",
        "    optimizer.apply_gradients(zip(gradients, model.trainable_variables))\n",
        "    \n",
        "    train_loss(loss)\n",
        "    train_accuracy(labels, predictions)"
      ]
    },
    {
      "cell_type": "markdown",
      "metadata": {
        "id": "GdL3GJY2OldM"
      },
      "source": [
        "モデルをテストするための関数test_stepを定義する．"
      ]
    },
    {
      "cell_type": "code",
      "execution_count": 8,
      "metadata": {
        "id": "IsRpIQFEOldM"
      },
      "outputs": [],
      "source": [
        "@tf.function\n",
        "def test_step(images, labels):\n",
        "    predictions = model(images, training = False)\n",
        "    t_loss = loss_object(labels, predictions)\n",
        "    \n",
        "    test_loss(t_loss)\n",
        "    test_accuracy(labels, predictions)"
      ]
    },
    {
      "cell_type": "markdown",
      "metadata": {
        "id": "3D-PUsW-OldM"
      },
      "source": [
        "学習を実行してテストし，結果を出力する．"
      ]
    },
    {
      "cell_type": "code",
      "execution_count": 9,
      "metadata": {
        "colab": {
          "base_uri": "https://localhost:8080/"
        },
        "id": "tJEwX2bUOldM",
        "outputId": "ba90863f-43f5-493c-ef99-3b633e1b4e3f"
      },
      "outputs": [
        {
          "output_type": "stream",
          "name": "stdout",
          "text": [
            "Epoch 1, Loss: 2.322615623474121, Accuracy: 8.90000057220459, Test Loss: 1.85744309425354, Test Accuracy: 53.02000045776367\n",
            "Epoch 2, Loss: 1.8357914686203003, Accuracy: 55.29999542236328, Test Loss: 1.3783245086669922, Test Accuracy: 70.1500015258789\n",
            "Epoch 3, Loss: 1.348958134651184, Accuracy: 72.5999984741211, Test Loss: 1.0474377870559692, Test Accuracy: 76.06999969482422\n"
          ]
        }
      ],
      "source": [
        "EPOCHS = 3\n",
        "\n",
        "for epoch in range(EPOCHS):\n",
        "    train_loss.reset_states()\n",
        "    train_accuracy.reset_states()\n",
        "    test_loss.reset_states()\n",
        "    test_accuracy.reset_states()\n",
        "    \n",
        "    for train_images, train_labels in train_ds:\n",
        "        train_step(train_images, train_labels)\n",
        "    \n",
        "    for test_images, test_labels in test_ds:\n",
        "        test_step(test_images, test_labels)\n",
        "    \n",
        "    print(\n",
        "        f'Epoch {epoch + 1}, '\n",
        "        f'Loss: {train_loss.result()}, '\n",
        "        f'Accuracy: {train_accuracy.result() * 100}, '\n",
        "        f'Test Loss: {test_loss.result()}, '\n",
        "        f'Test Accuracy: {test_accuracy.result() * 100}'\n",
        "    )"
      ]
    },
    {
      "cell_type": "markdown",
      "metadata": {
        "id": "xTaFZYwFOldM"
      },
      "source": [
        "AWPのアルゴリズムを記述する．\n",
        "まず，学習済みのmodelから重みを取り出してvを加えて再設定する．"
      ]
    },
    {
      "cell_type": "code",
      "source": [
        "weights = model.get_weights()\n",
        "ordinary_weights = weights\n",
        "v_array = []\n",
        "for w in weights:\n",
        "  v = 0.00002 * np.random.rand() - 0.00001\n",
        "  v_array.append(tf.fill(w.shape, v))"
      ],
      "metadata": {
        "id": "XRSISCKw7GT9"
      },
      "execution_count": 10,
      "outputs": []
    },
    {
      "cell_type": "markdown",
      "metadata": {
        "id": "oPKvxUYsOldM"
      },
      "source": [
        "Step2"
      ]
    },
    {
      "cell_type": "code",
      "source": [
        "# @tf.function\n",
        "def adversary(dataset, additive_weights, eps1 = 1, eta1 = 0.1, iterate_num = 5):\n",
        "    weights = model.get_weights()\n",
        "    new_weights = []\n",
        "    for w, v in zip(weights, additive_weights):\n",
        "      new_weights.append(w + v)\n",
        "    model.set_weights(new_weights)\n",
        "\n",
        "    adversarial_image_list = []\n",
        "    # eps1 = 1\n",
        "    # eta1 = 0.1\n",
        "    for (images, labels) in dataset:\n",
        "      for (image, label) in zip(images, labels):\n",
        "        image = tf.Variable([image])\n",
        "\n",
        "        initial_noise = 2 * eps1 * np.random.rand() - eps1\n",
        "        image_dashed = tf.add(image, initial_noise)\n",
        "\n",
        "        # この書き方でも，initial_noiseが一様に入ってしまっている．\n",
        "        # tf.Variableで1次元追加しているから，より内側のループを作らないといけないよ\n",
        "        # image_dashed_list = []\n",
        "        # for image_0 in image:\n",
        "        #   for image_h in image_0:\n",
        "        #     for image_v in image_h:\n",
        "        #       for image_pixel in image_v:\n",
        "        #         initial_noise = 2 * eps1 * np.random.rand() - eps1\n",
        "        #         image_pixel_dashed = tf.add(image_pixel, initial_noise)\n",
        "        # image_dashed_list.append(image_pixel_dashed)\n",
        "        # # image_dashed = np.array(image_dashed_list)\n",
        "        # image_dashed = tf.convert_to_tensor(image_dashed_list)\n",
        "        # print(image_dashed.numpy())\n",
        "\n",
        "        for j in range(iterate_num):\n",
        "          with tf.GradientTape() as tape:\n",
        "            tape.watch(image_dashed)\n",
        "            prediction = model(image_dashed, training = True)\n",
        "            loss = loss_object(label, prediction)\n",
        "          gradients = tape.gradient(loss, image_dashed)\n",
        "          image_med = tf.add(image_dashed, tf.multiply(eta1, gradients))\n",
        "          difference = tf.subtract(image_med, image)\n",
        "          if tf.norm(difference) <= eps1:\n",
        "            image_dashed = image_med \n",
        "          else:\n",
        "            image_dashed = difference\n",
        "            image_dashed = tf.multiply(image_dashed, eps1)\n",
        "            image_dashed = tf.divide(image_dashed, tf.norm(difference))\n",
        "            image_dashed = tf.add(image_dashed, image)\n",
        "        adversarial_image_list.append(image_dashed[0])\n",
        "        adversarial_image = np.array(adversarial_image_list)\n",
        "\n",
        "    return adversarial_image"
      ],
      "metadata": {
        "id": "V3j-1XQM1lMS"
      },
      "execution_count": 11,
      "outputs": []
    },
    {
      "cell_type": "code",
      "source": [
        "x_adversarial = adversary(train_ds, v_array)"
      ],
      "metadata": {
        "id": "LzKpbHhf5dup"
      },
      "execution_count": 12,
      "outputs": []
    },
    {
      "cell_type": "code",
      "source": [
        "from PIL import Image\n",
        "import matplotlib.pyplot as plt"
      ],
      "metadata": {
        "id": "Mpzb3j_c8kKF"
      },
      "execution_count": 13,
      "outputs": []
    },
    {
      "cell_type": "code",
      "source": [
        "# for i in range(10):\n",
        "plt.imshow(np.squeeze(x_adversarial[0] - x_train[0]))\n",
        "plt.show()\n",
        "print(y_train[0])"
      ],
      "metadata": {
        "colab": {
          "base_uri": "https://localhost:8080/",
          "height": 282
        },
        "id": "aMZJZZYgA04d",
        "outputId": "311fa1f1-374e-48ff-e4c4-7d880cbff006"
      },
      "execution_count": 14,
      "outputs": [
        {
          "output_type": "display_data",
          "data": {
            "text/plain": [
              "<Figure size 432x288 with 1 Axes>"
            ],
            "image/png": "[encoded data removed]"
          },
          "metadata": {
            "needs_background": "light"
          }
        },
        {
          "output_type": "stream",
          "name": "stdout",
          "text": [
            "9\n"
          ]
        }
      ]
    },
    {
      "cell_type": "code",
      "source": [
        "plt.imshow(np.squeeze(x_adversarial[0]))\n",
        "plt.show()\n",
        "print(y_train[0])"
      ],
      "metadata": {
        "colab": {
          "base_uri": "https://localhost:8080/",
          "height": 282
        },
        "id": "6uaLXa-goe2o",
        "outputId": "2592f1f5-e543-4c1e-da1c-e13ec087f2f5"
      },
      "execution_count": 15,
      "outputs": [
        {
          "output_type": "display_data",
          "data": {
            "text/plain": [
              "<Figure size 432x288 with 1 Axes>"
            ],
            "image/png": "[encoded data removed]"
          },
          "metadata": {
            "needs_background": "light"
          }
        },
        {
          "output_type": "stream",
          "name": "stdout",
          "text": [
            "9\n"
          ]
        }
      ]
    },
    {
      "cell_type": "code",
      "source": [
        "# %matplotlib inline\n",
        "# for i in range(10):\n",
        "#   plt.imshow(np.squeeze(x_adversarial[i]))\n",
        "#   plt.show()\n",
        "#   print(y_train[i])"
      ],
      "metadata": {
        "id": "8C5mNp328y8q"
      },
      "execution_count": 16,
      "outputs": []
    },
    {
      "cell_type": "markdown",
      "metadata": {
        "id": "Nxll_dsBOldN"
      },
      "source": [
        "Step3"
      ]
    },
    {
      "cell_type": "code",
      "source": [
        "adversarial_ds = tf.data.Dataset.from_tensor_slices(\n",
        "    (x_adversarial, y_train)\n",
        ").batch(100)"
      ],
      "metadata": {
        "id": "Cjf3frQs4Io4"
      },
      "execution_count": 17,
      "outputs": []
    },
    {
      "cell_type": "code",
      "source": [
        "def calculate_loss(dataset, batch_size = 100):\n",
        "  batch_size = 100\n",
        "  loss_sum = 0.0\n",
        "  for (images, labels) in adversarial_ds:\n",
        "    predictions = model(images, training = True)\n",
        "    loss = loss_object(labels, predictions)\n",
        "    loss_sum_batch = loss * batch_size\n",
        "    loss_sum = tf.add(loss_sum_batch, loss_sum)\n",
        "  average_loss = tf.divide(loss_sum, 1000)\n",
        "  return average_loss"
      ],
      "metadata": {
        "id": "ozxGyYUn3KGZ"
      },
      "execution_count": 18,
      "outputs": []
    },
    {
      "cell_type": "markdown",
      "metadata": {
        "id": "_rZ9Ze5LOldN"
      },
      "source": [
        "Step4"
      ]
    },
    {
      "cell_type": "code",
      "source": [
        "def calculate_weights_norm(weights):\n",
        "  w_flat = np.ndarray([])\n",
        "  for w in weights:\n",
        "    w_reshape = tf.reshape(w, [-1])\n",
        "    w_flat = np.hstack([w_flat, w_reshape])\n",
        "  w_fro = np.linalg.norm(w_flat)\n",
        "  return w_fro"
      ],
      "metadata": {
        "id": "BD3YeKDISlsZ"
      },
      "execution_count": 19,
      "outputs": []
    },
    {
      "cell_type": "code",
      "source": [
        "value1 = calculate_weights_norm(ordinary_weights)\n",
        "print(value1)"
      ],
      "metadata": {
        "colab": {
          "base_uri": "https://localhost:8080/"
        },
        "id": "hrmEYirzftOs",
        "outputId": "d817070c-5282-4dd8-d44a-d08cacd5263e"
      },
      "execution_count": 20,
      "outputs": [
        {
          "output_type": "stream",
          "name": "stdout",
          "text": [
            "16.9052696818999\n"
          ]
        }
      ]
    },
    {
      "cell_type": "code",
      "source": [
        "def flatness(dataset, weights,  v_fixed, eps2 = 1, eta2 = 0.1, batch_size = 1000, iterate_num = 5):\n",
        "  # vの初期値を，step2で固定したvに設定する．\n",
        "  v_updated = v_fixed\n",
        "\n",
        "  for i in range(iterate_num):\n",
        "\n",
        "    # 重みをw + (現在の)vに設定する　　ここから\n",
        "    current_weights = []\n",
        "    for layer_weights, v in zip(weights, v_updated):\n",
        "      current_layer_weight = tf.add(layer_weights, v)\n",
        "      current_weights.append(current_layer_weight)\n",
        "    model.set_weights(current_weights)\n",
        "    # 重みをw + (現在の)vに設定する　　ここまで\n",
        "\n",
        "    # gradientの計算　　ここから\n",
        "    with tf.GradientTape() as tape:\n",
        "      loss = calculate_loss(dataset)\n",
        "      # loss = tf.multiply(-1.0, calculate_loss(dataset))\n",
        "    gradients = tape.gradient(loss, model.trainable_variables)\n",
        "    #　計算できているし，悪い値ではない．\n",
        "    # gradientの計算　　ここまで\n",
        "\n",
        "    # gradientのノルムの計算　　ここから\n",
        "    gradients_flat = []\n",
        "    for g in gradients:\n",
        "      g_reshape = tf.reshape(g, [-1])\n",
        "      gradients_flat = np.hstack([gradients_flat, g_reshape])\n",
        "    gradients_norm = np.linalg.norm(gradients_flat)\n",
        "    # ループを経るごとに値が大きくなり過ぎている？\n",
        "    # gradientのノルムの計算　　ここまで\n",
        "\n",
        "    # 勾配降下の実行　　ここから\n",
        "    v_difference = []\n",
        "    for g, v in zip(gradients, v_updated):\n",
        "      g = tf.divide(g, gradients_norm)\n",
        "      g = tf.multiply(g, calculate_weights_norm(weights))\n",
        "      g = tf.multiply(eta2, g)\n",
        "      v_med = tf.add(v, g)\n",
        "    # 勾配降下の実行　　ここまで\n",
        "\n",
        "    # (現在の)vと(元の重み)wの差分と，　そのノルムを計算　　ここから\n",
        "      v_difference.append(v_med)\n",
        "    v_difference_flat = np.ndarray([])\n",
        "    for v_flat in v_difference:\n",
        "      v_flat_reshape = tf.reshape(v_flat, [-1])\n",
        "      v_difference_flat = np.hstack([v_difference_flat, v_flat_reshape])\n",
        "    v_difference_norm = np.linalg.norm(v_difference_flat)\n",
        "    # (現在の)vと(元の重み)wの差分と，　そのノルムを計算　　ここまで\n",
        "\n",
        "    # 射影の実行　　ここから\n",
        "    if v_difference_norm <= eps2:\n",
        "      v_hat = v_med \n",
        "    else:\n",
        "      v_hat = v_difference\n",
        "      for v_hat_med in v_hat:\n",
        "        v_hat_med = tf.multiply(v_hat_med, eps2)\n",
        "        v_hat_med = tf.divide(v_hat_med, v_difference_norm)\n",
        "    v_updated = v_hat\n",
        "    # 計算できているし，悪い値ではない．\n",
        "    # 射影の実行　　ここまで\n",
        "\n",
        "  return v_updated"
      ],
      "metadata": {
        "id": "7o_V5Ctgh40u"
      },
      "execution_count": 21,
      "outputs": []
    },
    {
      "cell_type": "code",
      "source": [
        "new_v = flatness(adversarial_ds, ordinary_weights, v_array)"
      ],
      "metadata": {
        "id": "TPT1rqAXmFL7"
      },
      "execution_count": 22,
      "outputs": []
    },
    {
      "cell_type": "code",
      "source": [
        "# # eps2 = 1\n",
        "# # eta2 = 0.1\n",
        "# # batch_size = 1000\n",
        "\n",
        "# v_updated = v_array\n",
        "# # vの初期値を，step2で固定したvに設定する．\n",
        "\n",
        "# for i in range(5):\n",
        "\n",
        "#   # 重みをw + (現在の)vに設定する　　ここから\n",
        "#   current_weights = []\n",
        "#   # print(current_weights)\n",
        "#   for layer_weights, v in zip(ordinary_weights, v_updated):\n",
        "#     current_layer_weight = tf.add(layer_weights, v)\n",
        "#     current_weights.append(current_layer_weight)\n",
        "#   # print(current_weights)\n",
        "#   model.set_weights(current_weights)\n",
        "#   # 重みをw + (現在の)vに設定する　　ここまで\n",
        "\n",
        "#   # gradientの計算　　ここから\n",
        "#   with tf.GradientTape() as tape:\n",
        "#     loss = calculate_loss(adversarial_ds)\n",
        "#     # loss = tf.multiply(-1.0, calculate_loss(adversarial_ds))\n",
        "#     print(loss)\n",
        "#   gradients = tape.gradient(loss, model.trainable_variables)\n",
        "#   # print(gradients)\n",
        "#   #　計算できているし，悪い値ではない．\n",
        "#   # gradientの計算　　ここまで\n",
        "\n",
        "#   # gradientのノルムの計算　　ここから\n",
        "#   gradients_flat = []\n",
        "#   for g in gradients:\n",
        "#     g_reshape = tf.reshape(g, [-1])\n",
        "#     # print(g_reshape)\n",
        "#     gradients_flat = np.hstack([gradients_flat, g_reshape])\n",
        "#     # print(gradients_flat)\n",
        "#   gradients_norm = np.linalg.norm(gradients_flat)\n",
        "#   # print(gradients_norm)\n",
        "#   # print(gradients_flat)\n",
        "#   # print(gradients_norm)\n",
        "#   # ループを経るごとに値が大きくなり過ぎている？\n",
        "#   # gradientのノルムの計算　　ここまで\n",
        "\n",
        "#   # 勾配降下の実行　　ここから\n",
        "#   v_difference = []\n",
        "#   for g, v in zip(gradients, v_updated):\n",
        "#     g = tf.divide(g, gradients_norm)\n",
        "#     g = tf.multiply(g, calculate_weights_norm(ordinary_weights))\n",
        "#     g = tf.multiply(eta2, g)\n",
        "#     v_med = tf.add(v, g)\n",
        "#   # 勾配降下の実行　　ここまで\n",
        "\n",
        "#   # (現在の)vと(元の重み)wの差分と，　そのノルムを計算　　ここから\n",
        "#     v_difference.append(v_med)\n",
        "#   v_difference_flat = np.ndarray([])\n",
        "#   for v_flat in v_difference:\n",
        "#     v_flat_reshape = tf.reshape(v_flat, [-1])\n",
        "#     # print(g_reshape.shape)\n",
        "#     v_difference_flat = np.hstack([v_difference_flat, v_flat_reshape])\n",
        "#   v_difference_norm = np.linalg.norm(v_difference_flat)\n",
        "#   # (現在の)vと(元の重み)wの差分と，　そのノルムを計算　　ここまで\n",
        "\n",
        "#   # 射影の実行　　ここから\n",
        "#   if v_difference_norm <= eps2:\n",
        "#     v_hat = v_med \n",
        "#   else:\n",
        "#     v_hat = v_difference\n",
        "#     for v_hat_med in v_hat:\n",
        "#       v_hat_med = tf.multiply(v_hat_med, eps2)\n",
        "#       v_hat_med = tf.divide(v_hat_med, v_difference_norm)\n",
        "#   v_updated = v_hat\n",
        "#   # print(v_updated)\n",
        "#   # 計算できているし，悪い値ではない．\n",
        "#   # 射影の実行　　ここまで"
      ],
      "metadata": {
        "id": "dhQbeCasjVRp"
      },
      "execution_count": 23,
      "outputs": []
    },
    {
      "cell_type": "markdown",
      "metadata": {
        "id": "44ZjbQBHOldN"
      },
      "source": [
        "Step5"
      ]
    },
    {
      "cell_type": "code",
      "source": [
        "def update(dataset, weights, v_updated, eta3 = 1):\n",
        "\n",
        "  # 重みをw + (step4で決めた)vに設定する　　ここから\n",
        "  current_weights = []\n",
        "  for layer_weights, v in zip(weights, v_updated):\n",
        "    current_layer_weight = tf.add(layer_weights, v)\n",
        "    current_weights.append(current_layer_weight)\n",
        "  model.set_weights(current_weights)\n",
        "  # 計算できている．\n",
        "  # 重みをw + (step4で決めた)vに設定する　　ここまで\n",
        "\n",
        "  # gradientの計算　　ここから\n",
        "  with tf.GradientTape() as tape:\n",
        "    loss = calculate_loss(dataset)\n",
        "  gradients = tape.gradient(loss, model.trainable_variables)\n",
        "  # 計算できているが，値が大きい．\n",
        "  # gradientの計算　　ここまで\n",
        "\n",
        "  # 勾配降下の実行　　ここから\n",
        "  w_hat = []\n",
        "  for wu, g in zip(weights, gradients):\n",
        "    g_med = tf.multiply(eta3, g)\n",
        "    wu = tf.subtract(wu, g_med)\n",
        "    w_hat.append(wu)\n",
        "  weights_updated = w_hat\n",
        "  # 勾配降下の実行　　ここまで\n",
        "  return weights_updated"
      ],
      "metadata": {
        "id": "ZiCvT4zImjpo"
      },
      "execution_count": 24,
      "outputs": []
    },
    {
      "cell_type": "code",
      "source": [
        "new_weights = update(adversarial_ds, ordinary_weights, new_v)\n",
        "print(new_weights)\n",
        "model.set_weights(new_weights)\n",
        "ordinary_weights = model.get_weights()"
      ],
      "metadata": {
        "colab": {
          "base_uri": "https://localhost:8080/"
        },
        "id": "55nobDCBoXUt",
        "outputId": "db44d25b-7da8-43d8-fc47-4b248b86122f"
      },
      "execution_count": 25,
      "outputs": [
        {
          "output_type": "stream",
          "name": "stdout",
          "text": [
            "[<tf.Tensor: shape=(3, 3, 1, 32), dtype=float32, numpy=\n",
            "array([[[[ 1.13265388e-01, -2.40081229e+09, -1.03323668e-01,\n",
            "           1.34714678e-01, -1.10210406e+09,  4.08577360e-02,\n",
            "          -1.08190694e+09,  8.22002217e-02, -8.10620487e-02,\n",
            "          -1.27651766e-01, -1.29024550e-01, -5.26114516e-02,\n",
            "           9.76892784e-02, -9.70370602e-03, -7.55913034e-02,\n",
            "           8.16369876e-02, -1.86071023e-02, -3.47253233e-02,\n",
            "           1.21294968e-01, -9.59178656e-02, -1.37923285e-01,\n",
            "           1.15387835e-01, -6.36961535e-02,  7.90769756e-02,\n",
            "           7.14031085e-02,  6.04726700e-03, -2.94436514e-02,\n",
            "           3.47561277e-02, -1.91848874e+00,  7.04557180e-01,\n",
            "           4.86229360e-03,  5.71990728e-01]],\n",
            "\n",
            "        [[ 1.03717513e-01, -2.41400499e+09,  1.05212919e-01,\n",
            "          -8.18319917e-02, -1.10825549e+09,  8.91594738e-02,\n",
            "          -1.08805786e+09,  7.78152272e-02, -6.07596673e-02,\n",
            "          -3.43603939e-02,  1.16285706e+00, -4.94831167e-02,\n",
            "           1.09498799e-01,  5.59974797e-02,  1.34253427e-01,\n",
            "          -5.05426750e-02, -1.00738667e-02, -7.53675029e-02,\n",
            "           6.62840903e-02,  1.29068419e-01,  9.95186687e-01,\n",
            "          -9.48523208e-02,  6.37194440e-02, -1.08619601e-01,\n",
            "           6.15530275e-02,  9.23589021e-02, -7.17775747e-02,\n",
            "          -5.22837415e-02, -2.42358744e-02, -1.57325834e-01,\n",
            "          -1.40921324e-02,  6.15413308e-01]],\n",
            "\n",
            "        [[ 1.08874865e-01, -2.40795085e+09, -4.35829014e-02,\n",
            "          -7.70711899e-03, -1.10552781e+09,  5.51475435e-02,\n",
            "          -1.08538355e+09,  9.48807597e-02,  5.05663976e-02,\n",
            "          -5.04372120e-02,  1.18257320e+00, -4.40475792e-02,\n",
            "           8.94240439e-02,  1.03044219e-01,  1.28139406e-02,\n",
            "           1.10472456e-01,  7.92773142e-02, -5.13968244e-02,\n",
            "           1.09330900e-02,  1.20808505e-01, -2.55948156e-02,\n",
            "          -7.25989342e-02, -4.71286476e-03, -5.68580218e-02,\n",
            "           4.68637086e-02, -1.35745004e-01,  8.63266215e-02,\n",
            "           7.41154626e-02,  7.26306960e-02, -4.79983896e-01,\n",
            "          -3.11126804e+00,  6.91214263e-01]]],\n",
            "\n",
            "\n",
            "       [[[-1.33908968e-02, -2.41651277e+09,  1.28461048e-01,\n",
            "          -1.64822412e+00, -1.10937101e+09, -4.30442281e-02,\n",
            "          -1.08921382e+09, -1.04480051e-01,  6.50133193e-02,\n",
            "          -9.10165608e-02,  1.53916329e-03, -4.82906550e-02,\n",
            "          -6.43677488e-02,  1.27505928e-01, -1.35364253e-02,\n",
            "           7.11771399e-02,  3.38806808e-02, -2.96187643e-02,\n",
            "          -7.96011239e-02,  1.84927676e-02, -2.06951834e-02,\n",
            "           4.37918827e-02, -1.39613330e-01, -2.64977682e-02,\n",
            "           1.33307204e-01,  1.78341027e-02, -1.47506436e-02,\n",
            "           7.23598748e-02, -6.61246851e-03, -2.38496971e+00,\n",
            "           6.14239052e-02,  6.70363545e-01]],\n",
            "\n",
            "        [[ 3.47320363e-03, -2.42638234e+09,  3.61446626e-02,\n",
            "          -1.19136953e+00, -1.11399194e+09,  6.93608597e-02,\n",
            "          -1.09385370e+09, -5.31009771e-02, -1.28738642e-01,\n",
            "           2.66948417e-02, -1.22617014e-01, -2.23121438e-02,\n",
            "           5.20006567e-02, -2.56343801e-02,  5.90097308e-02,\n",
            "           8.21348429e-02,  1.33114666e-01, -1.38338536e-01,\n",
            "           7.75943026e-02,  5.73465303e-02, -1.82468146e-01,\n",
            "          -6.98772371e-02,  4.99646962e-02, -1.34249985e-01,\n",
            "          -1.06235221e-03,  6.71662688e-02,  4.07504849e-02,\n",
            "           1.22876719e-01,  1.02116473e-01, -2.75638676e+00,\n",
            "           2.33943865e-01,  1.01937616e+00]],\n",
            "\n",
            "        [[-3.30536328e-02, -2.41632640e+09,  1.18518375e-01,\n",
            "          -1.57322735e-01, -1.10941581e+09,  4.17900458e-02,\n",
            "          -1.08934234e+09, -6.12836778e-02,  6.64103627e-02,\n",
            "          -3.16794356e-03, -2.06156634e-02,  3.39063890e-02,\n",
            "           2.45044306e-02,  1.86877716e-02,  1.06153950e-01,\n",
            "           4.39775884e-02, -5.79009391e-03, -9.62100551e-02,\n",
            "           1.34324476e-01,  7.61756524e-02, -6.97614625e-02,\n",
            "           5.60345426e-02, -3.39617319e-02,  2.06357278e-02,\n",
            "           7.93134943e-02,  1.58816725e-02, -4.13722917e-02,\n",
            "          -5.23449294e-02,  7.41249770e-02, -3.14051032e+00,\n",
            "           2.41585299e-02,  6.23479843e-01]]],\n",
            "\n",
            "\n",
            "       [[[ 1.39017627e-01, -2.41092301e+09,  1.24385573e-01,\n",
            "          -8.10181201e-01, -1.10681523e+09, -4.86378744e-02,\n",
            "          -1.08678566e+09,  8.09870437e-02, -6.84138853e-04,\n",
            "           1.33987382e-01, -2.02077329e-01,  7.80121833e-02,\n",
            "           1.88977476e-02,  1.25695631e-01, -9.16201100e-02,\n",
            "           6.17628284e-02,  6.55402541e-02,  7.92213604e-02,\n",
            "          -1.11644216e-01,  1.19260021e-01,  8.19180310e-02,\n",
            "          -6.89836070e-02, -1.25938371e-01, -5.34192473e-02,\n",
            "           1.02050193e-01, -1.32077187e-01, -3.78161967e-02,\n",
            "           1.22952141e-01,  2.39465386e-03, -2.47770473e-02,\n",
            "           1.93658471e-01, -2.12257195e+01]],\n",
            "\n",
            "        [[ 1.06259942e-01, -2.41679283e+09, -1.38758555e-01,\n",
            "           7.80207440e-02, -1.10958771e+09, -1.19726680e-01,\n",
            "          -1.08959014e+09,  1.22433804e-01, -7.42494017e-02,\n",
            "          -3.80442254e-02, -6.78697467e-01,  2.31053382e-02,\n",
            "          -1.25188679e-01, -1.06791463e-02,  5.96261360e-02,\n",
            "           9.89085138e-02, -6.33933116e-03,  1.26115710e-01,\n",
            "           8.90377536e-02, -1.53780458e-02, -1.73261836e-01,\n",
            "          -1.38567984e-01,  3.08755487e-02, -1.15821645e-01,\n",
            "          -2.42217421e-03, -9.52737257e-02,  1.24554850e-01,\n",
            "          -5.54471239e-02,  1.46040097e-01, -1.28349289e-02,\n",
            "           2.45093673e-01, -1.25997438e+01]],\n",
            "\n",
            "        [[-9.29105096e-03, -2.40345754e+09,  5.07626086e-02,\n",
            "           1.71160758e-01, -1.10349107e+09,  3.84426415e-02,\n",
            "          -1.08356019e+09,  7.90044591e-02, -7.08144158e-02,\n",
            "           7.58054852e-02, -1.27637893e-01, -1.20712623e-01,\n",
            "           1.10247873e-01, -7.88216069e-02,  7.00309202e-02,\n",
            "          -6.74428493e-02, -4.96209674e-02, -8.00427273e-02,\n",
            "           9.52014923e-02,  6.01032563e-02, -7.73348361e-02,\n",
            "          -3.51794474e-02,  1.63063221e-02,  1.16551913e-01,\n",
            "          -6.39052019e-02, -1.05350865e-02,  7.23467842e-02,\n",
            "           1.17790364e-01,  1.43472686e-01, -4.23316583e-02,\n",
            "           7.82172084e-02,  4.24670637e-01]]]], dtype=float32)>, <tf.Tensor: shape=(32,), dtype=float32, numpy=\n",
            "array([ 4.8310310e-04, -1.3817069e+10,  4.1468255e-04, -2.2841156e+00,\n",
            "       -6.3373660e+09,  1.2638239e-04, -6.2087526e+09,  3.6610651e-04,\n",
            "       -2.2991160e-02,  5.5393769e-04,  2.6027793e-01,  2.8882583e-04,\n",
            "        4.0221232e-04,  1.2298638e-04,  4.5585894e-04,  5.2637752e-04,\n",
            "        5.3192180e-04,  2.3715091e-03,  5.9692730e-04,  5.6706468e-04,\n",
            "        1.1284649e+00,  4.6008528e-04,  5.4858834e-04,  5.5582414e-04,\n",
            "        3.4353882e-04,  5.4016546e-04,  4.2581564e-04,  9.3509618e-05,\n",
            "       -2.0904222e+00, -3.2993305e+00, -3.7185202e+00, -2.2808992e+01],\n",
            "      dtype=float32)>, <tf.Tensor: shape=(21632, 128), dtype=float32, numpy=\n",
            "array([[ 1.57741476e-02,  1.61680896e-02,  6.96281716e-03, ...,\n",
            "         1.43980607e-04,  3.48946825e-03,  1.42436791e-02],\n",
            "       [ 1.20964628e-02, -1.60960890e+07, -6.69400906e-03, ...,\n",
            "         1.13423197e-02, -9.29568960e+07,  1.24461772e-02],\n",
            "       [-5.36512304e-03,  1.24475341e-02, -2.36067921e-04, ...,\n",
            "        -3.80677544e-03, -1.09349750e-02,  1.10394415e-02],\n",
            "       ...,\n",
            "       [ 3.71562270e-03, -1.52101461e-02,  3.59350326e-03, ...,\n",
            "         1.00566102e-02, -1.04265828e-02, -1.51037425e-02],\n",
            "       [ 5.20774536e-03, -1.57958902e-02, -1.52397454e-02, ...,\n",
            "         4.25139070e-03,  3.93587351e-03, -4.60083690e-03],\n",
            "       [ 1.29393516e-02,  1.72978919e-02, -3.88584868e-03, ...,\n",
            "         9.15987510e-03, -8.62448942e-03,  1.13496352e-02]], dtype=float32)>, <tf.Tensor: shape=(128,), dtype=float32, numpy=\n",
            "array([ 1.9794564e-04, -9.3252081e+02, -2.1391953e-03, -3.7532061e+03,\n",
            "        2.9205899e-03, -3.2604641e+03, -1.3508941e-03, -4.3355415e+03,\n",
            "       -2.1861251e-03, -1.3117090e+03,  1.7033324e-03, -1.0238800e+03,\n",
            "       -1.8796809e+03,  4.0241933e-04, -3.1619768e+03, -2.1849039e-03,\n",
            "       -1.6615501e-03, -4.0331758e+03, -1.4576069e+03, -4.5791230e+03,\n",
            "        1.0621760e-03, -1.5456575e-03, -8.6398376e-04, -2.1864672e-03,\n",
            "        2.7692199e-03, -7.3890551e-06, -1.3018009e+03, -7.3629780e+03,\n",
            "       -1.7188438e+02, -2.5479014e+03, -2.1869824e-03, -3.2340027e+03,\n",
            "       -3.2344885e+03, -6.5611823e+02, -2.1874777e-03, -2.0511837e+01,\n",
            "       -1.1301649e+03,  2.9089414e-03, -2.0146180e+03, -2.3633550e-04,\n",
            "        2.9535666e-03,  4.4169743e-04,  2.7386860e-03, -1.9100258e+03,\n",
            "       -1.5301959e+03, -2.1876141e-03,  2.5762757e-03, -2.6872510e-03,\n",
            "       -3.9729766e+03, -5.5586953e+03, -3.0425754e+02, -2.1867922e-03,\n",
            "       -1.2034806e-03, -2.1871733e-03,  2.5536900e-03, -3.6019617e+03,\n",
            "       -3.2316396e+03, -1.0304298e+03, -5.1926647e-04,  2.6618212e-03,\n",
            "       -1.1618201e+03, -2.1871200e-03, -1.3496818e+03, -2.2290271e+03,\n",
            "       -2.1843519e-03, -3.6829456e+03, -4.2096270e+03, -1.5511876e-04,\n",
            "       -3.6038386e+03, -6.0791538e+03, -2.8820391e+03, -3.1296548e+03,\n",
            "       -2.5946819e+03, -2.1872101e-03, -3.2292085e+03, -1.6931274e+03,\n",
            "       -1.4595410e+03,  2.2018105e-03, -2.1859994e-03,  2.8933929e-03,\n",
            "       -4.6795044e+03,  2.7592240e-03, -2.1872206e-03, -1.7545789e+03,\n",
            "       -3.7582778e+03,  2.6250037e-03, -1.6705461e-03,  2.9514101e-03,\n",
            "       -2.1841004e-03, -1.5589674e-03,  2.7998285e-03, -3.3128081e+03,\n",
            "       -5.4264502e+03, -8.1704522e-05, -2.1856902e-03,  2.7206002e-03,\n",
            "       -4.4212153e-05, -1.3899752e-03, -2.4308416e+03, -2.1867175e-03,\n",
            "       -6.4568071e+03, -2.8798572e+03, -3.4843491e+03, -2.1654135e-03,\n",
            "       -3.2769587e+03, -2.1082561e-03, -2.2500877e+02, -1.8113861e+03,\n",
            "       -2.1391364e-03, -9.5730896e+02, -3.5072695e+03, -4.3467686e+03,\n",
            "       -2.1862853e-03, -4.6698425e+02, -2.7025186e-03, -4.9526479e+03,\n",
            "        2.9086930e-04, -3.6250480e-04, -4.2570503e+03, -2.1179517e+03,\n",
            "       -1.7062815e+03, -1.1900651e+03, -3.0031028e+03, -3.5476128e+03,\n",
            "       -7.0106675e-04,  2.6266853e-04, -5.3854380e+03, -2.1750499e-03],\n",
            "      dtype=float32)>, <tf.Tensor: shape=(128, 10), dtype=float32, numpy=\n",
            "array([[ 1.9137619e-01,  1.5004997e-01, -7.1791284e-02, ...,\n",
            "         5.4129560e-02, -3.9836932e-02, -7.0028966e-03],\n",
            "       [ 4.4464412e+07,  4.3065472e+07,  4.3534348e+07, ...,\n",
            "         3.5697528e+07,  3.6108688e+07,  4.0489484e+07],\n",
            "       [-1.1459063e-02,  3.6284734e-02, -1.9662976e-01, ...,\n",
            "         6.9326565e-02,  7.1920685e-02,  1.6247764e-01],\n",
            "       ...,\n",
            "       [ 1.7507333e-01, -1.8445295e-01, -3.0227876e-03, ...,\n",
            "        -2.0938325e-01, -1.0357796e-01,  1.4599659e-01],\n",
            "       [ 4.1176598e+08,  3.9871645e+08,  4.0307194e+08, ...,\n",
            "         3.3052067e+08,  3.3434371e+08,  3.7490739e+08],\n",
            "       [ 1.3852568e-01, -1.7031718e-02, -1.6688760e-01, ...,\n",
            "        -5.9058774e-02,  1.1375572e-01,  1.0815951e-01]], dtype=float32)>, <tf.Tensor: shape=(10,), dtype=float32, numpy=\n",
            "array([ 0.09825309,  0.11479314,  0.10179015, -0.89366007,  0.11061062,\n",
            "        0.09475514,  0.10583565,  0.08632243,  0.08217727,  0.10051117],\n",
            "      dtype=float32)>]\n"
          ]
        }
      ]
    },
    {
      "cell_type": "markdown",
      "metadata": {
        "id": "y3MclZYfOldN"
      },
      "source": [
        "再テストの実行"
      ]
    },
    {
      "cell_type": "code",
      "execution_count": 26,
      "metadata": {
        "id": "jAmhPk_tOldN",
        "colab": {
          "base_uri": "https://localhost:8080/"
        },
        "outputId": "1154cffd-c037-4c2c-ca1a-dee54faecb61"
      },
      "outputs": [
        {
          "output_type": "stream",
          "name": "stdout",
          "text": [
            "Epoch 1, Test Loss: 2.1346240043640137, Test Accuracy: 46.04999923706055\n",
            "Epoch 2, Test Loss: 2.1346240043640137, Test Accuracy: 46.04999923706055\n",
            "Epoch 3, Test Loss: 2.1346240043640137, Test Accuracy: 46.04999923706055\n",
            "Epoch 4, Test Loss: 2.1346240043640137, Test Accuracy: 46.04999923706055\n",
            "Epoch 5, Test Loss: 2.1346240043640137, Test Accuracy: 46.04999923706055\n"
          ]
        }
      ],
      "source": [
        "EPOCHS = 5\n",
        "\n",
        "for epoch in range(EPOCHS):\n",
        "    test_loss.reset_states()\n",
        "    test_accuracy.reset_states()\n",
        "\n",
        "    for test_images, test_labels in test_ds:\n",
        "        test_step(test_images, test_labels)\n",
        "    \n",
        "    print(\n",
        "        f'Epoch {epoch + 1}, '\n",
        "        f'Test Loss: {test_loss.result()}, '\n",
        "        f'Test Accuracy: {test_accuracy.result() * 100}'\n",
        "    )"
      ]
    },
    {
      "cell_type": "code",
      "source": [],
      "metadata": {
        "id": "iQmyQyMYKM4P"
      },
      "execution_count": 26,
      "outputs": []
    }
  ],
  "metadata": {
    "colab": {
      "provenance": [],
      "include_colab_link": true
    },
    "gpuClass": "standard",
    "kernelspec": {
      "display_name": "Python 3.9.13 ('pythonenv')",
      "language": "python",
      "name": "python3"
    },
    "language_info": {
      "codemirror_mode": {
        "name": "ipython",
        "version": 3
      },
      "file_extension": ".py",
      "mimetype": "text/x-python",
      "name": "python",
      "nbconvert_exporter": "python",
      "pygments_lexer": "ipython3",
      "version": "3.9.13"
    },
    "vscode": {
      "interpreter": {
        "hash": "d1685d247089585e01bacc0e11595c4779ea690fa157e920ca16120e3c1da301"
      }
    }
  },
  "nbformat": 4,
  "nbformat_minor": 0
}